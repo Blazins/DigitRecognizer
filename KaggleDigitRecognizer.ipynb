{
 "cells": [
  {
   "cell_type": "markdown",
   "id": "2bcb2c93",
   "metadata": {},
   "source": [
    "# Digit Recognizer\n",
    "Learn Computer Fundamentals with MNIST Data"
   ]
  },
  {
   "cell_type": "markdown",
   "id": "e2a50d66",
   "metadata": {},
   "source": [
    "Modules to be used\n",
    "1. Numpy\n",
    "2. Matplotlib\n",
    "1. Tensorflow \n",
    "2. Keras\n",
    "3. Scitlearn"
   ]
  },
  {
   "cell_type": "code",
   "execution_count": 2,
   "id": "7e95682a",
   "metadata": {},
   "outputs": [
    {
     "name": "stderr",
     "output_type": "stream",
     "text": [
      "2022-05-02 22:03:00.290420: W tensorflow/stream_executor/platform/default/dso_loader.cc:64] Could not load dynamic library 'libcudart.so.11.0'; dlerror: libcudart.so.11.0: cannot open shared object file: No such file or directory\n",
      "2022-05-02 22:03:00.290451: I tensorflow/stream_executor/cuda/cudart_stub.cc:29] Ignore above cudart dlerror if you do not have a GPU set up on your machine.\n"
     ]
    }
   ],
   "source": [
    "#Fetch Libraries\n",
    "\n",
    "import numpy as np\n",
    "import matplotlib.pyplot as plt\n",
    "import tensorflow as tf\n",
    "from tensorflow import keras\n",
    "\n",
    "#Keras module that contains the mnist dataset\n",
    "from keras.datasets import mnist\n",
    "\n",
    "#Modules to build the model \n",
    "from keras.models import Sequential\n",
    "from keras.layers import Dense, Conv2D, MaxPool2D, Flatten, Dropout\n"
   ]
  },
  {
   "cell_type": "markdown",
   "id": "0d5c5625",
   "metadata": {},
   "source": [
    "## Using Kaggle's Api to Load Data"
   ]
  },
  {
   "cell_type": "code",
   "execution_count": 3,
   "id": "90aaa82c",
   "metadata": {},
   "outputs": [],
   "source": [
    "#Fetch the mnist data \n",
    "#mnist.load_data?\n",
    "\n",
    "#Download the data from https://storage.googleapis.com/tensorflow/tf-keras-datasets/mnisst.npz\n",
    "(X_train, y_train), (X_test, y_test) = mnist.load_data()"
   ]
  },
  {
   "cell_type": "code",
   "execution_count": 4,
   "id": "b10cb0e1",
   "metadata": {},
   "outputs": [
    {
     "data": {
      "text/plain": [
       "((60000, 28, 28), (60000,), (10000, 28, 28), (10000,))"
      ]
     },
     "execution_count": 4,
     "metadata": {},
     "output_type": "execute_result"
    }
   ],
   "source": [
    "#Fetch the dimensions of the data\n",
    "X_train.shape, y_train.shape , X_test.shape, y_test.shape"
   ]
  },
  {
   "cell_type": "code",
   "execution_count": 5,
   "id": "68053c76",
   "metadata": {},
   "outputs": [],
   "source": [
    "#Function to plot images from the dataset\n",
    "def plot_input_img(i):\n",
    "    plt.imshow(X_train[i], cmap = 'binary') #Get binary images\n",
    "    plt.title(y_train[i])\n",
    "    plt.show"
   ]
  },
  {
   "cell_type": "code",
   "execution_count": 6,
   "id": "e056441a",
   "metadata": {},
   "outputs": [
    {
     "data": {
      "image/png": "[encoded data removed]",
      "text/plain": [
       "<Figure size 432x288 with 1 Axes>"
      ]
     },
     "metadata": {
      "needs_background": "light"
     },
     "output_type": "display_data"
    }
   ],
   "source": [
    "#Plot the first image to chec if dataset loaded\n",
    "plot_input_img(0)"
   ]
  },
  {
   "cell_type": "code",
   "execution_count": 7,
   "id": "4dfa5a94",
   "metadata": {},
   "outputs": [],
   "source": [
    "#Preprocess the images for visualization\n",
    "\n",
    "#Normalize the image to [0,1] range\n",
    "X_train = X_train.astype(np.float32)/255\n",
    "X_test = X_test.astype(np.float32)/255\n",
    "\n",
    "#Increase the dimension of the images to (28,28,1)\n",
    "X_train = np.expand_dims(X_train, -1)\n",
    "X_test = np.expand_dims(X_test, -1)\n",
    "\n",
    "#Convert y_train and y_test to one hot (Matrix values)\n",
    "y_train = keras.utils.to_categorical(y_train)\n",
    "y_test = keras.utils.to_categorical(y_test)"
   ]
  },
  {
   "cell_type": "markdown",
   "id": "4eaa4fbe",
   "metadata": {},
   "source": [
    "## Building The Machine Learning Model"
   ]
  },
  {
   "cell_type": "code",
   "execution_count": 8,
   "id": "4bf08602",
   "metadata": {},
   "outputs": [
    {
     "name": "stderr",
     "output_type": "stream",
     "text": [
      "2022-05-02 22:03:07.111471: W tensorflow/stream_executor/platform/default/dso_loader.cc:64] Could not load dynamic library 'libcuda.so.1'; dlerror: libcuda.so.1: cannot open shared object file: No such file or directory\n",
      "2022-05-02 22:03:07.111535: W tensorflow/stream_executor/cuda/cuda_driver.cc:269] failed call to cuInit: UNKNOWN ERROR (303)\n",
      "2022-05-02 22:03:07.111566: I tensorflow/stream_executor/cuda/cuda_diagnostics.cc:156] kernel driver does not appear to be running on this host (wambugu-g55505): /proc/driver/nvidia/version does not exist\n",
      "2022-05-02 22:03:07.111887: I tensorflow/core/platform/cpu_feature_guard.cc:151] This TensorFlow binary is optimized with oneAPI Deep Neural Network Library (oneDNN) to use the following CPU instructions in performance-critical operations:  AVX2 FMA\n",
      "To enable them in other operations, rebuild TensorFlow with the appropriate compiler flags.\n"
     ]
    }
   ],
   "source": [
    "#Building the model\n",
    "#Initialize the model\n",
    "model = Sequential()\n",
    "\n",
    "model.add(Conv2D(32, (3,3),input_shape = (28,28,1), activation = 'relu'))\n",
    "model.add(MaxPool2D(2,2))\n",
    "\n",
    "model.add(Conv2D(64, (3,3),activation = 'relu'))\n",
    "model.add(MaxPool2D(2,2))\n",
    "\n",
    "model.add(Flatten())\n",
    "\n",
    "#Prevent overfitting by dropping it out by 25%\n",
    "model.add(Dropout(0.25))\n",
    "\n",
    "#Classification layer\n",
    "model.add(Dense(10, activation = 'softmax'))"
   ]
  },
  {
   "cell_type": "code",
   "execution_count": 9,
   "id": "6b3b9a2c",
   "metadata": {},
   "outputs": [
    {
     "name": "stdout",
     "output_type": "stream",
     "text": [
      "Model: \"sequential\"\n",
      "_________________________________________________________________\n",
      " Layer (type)                Output Shape              Param #   \n",
      "=================================================================\n",
      " conv2d (Conv2D)             (None, 26, 26, 32)        320       \n",
      "                                                                 \n",
      " max_pooling2d (MaxPooling2D  (None, 13, 13, 32)       0         \n",
      " )                                                               \n",
      "                                                                 \n",
      " conv2d_1 (Conv2D)           (None, 11, 11, 64)        18496     \n",
      "                                                                 \n",
      " max_pooling2d_1 (MaxPooling  (None, 5, 5, 64)         0         \n",
      " 2D)                                                             \n",
      "                                                                 \n",
      " flatten (Flatten)           (None, 1600)              0         \n",
      "                                                                 \n",
      " dropout (Dropout)           (None, 1600)              0         \n",
      "                                                                 \n",
      " dense (Dense)               (None, 10)                16010     \n",
      "                                                                 \n",
      "=================================================================\n",
      "Total params: 34,826\n",
      "Trainable params: 34,826\n",
      "Non-trainable params: 0\n",
      "_________________________________________________________________\n"
     ]
    }
   ],
   "source": [
    "model.summary()"
   ]
  },
  {
   "cell_type": "code",
   "execution_count": 10,
   "id": "2779f4f2",
   "metadata": {},
   "outputs": [],
   "source": [
    "#Compiling the model\n",
    "model.compile(optimizer='adam',loss = keras.losses.categorical_crossentropy, metrics=['accuracy'])"
   ]
  },
  {
   "cell_type": "code",
   "execution_count": 18,
   "id": "d5453797",
   "metadata": {},
   "outputs": [],
   "source": [
    "#Callback functions\n",
    "\n",
    "from keras.callbacks import EarlyStopping, ModelCheckpoint\n",
    "\n",
    "#Earlystopping to prevent overfitting\n",
    "#Giving it a variable to monitor\n",
    "es = EarlyStopping(monitor = 'val_acc',min_delta = 0.01, patience = 4, verbose =1)\n",
    "\n",
    "#Model Checkpoint\n",
    "mc = ModelCheckpoint(\"./bestmodel.h5\", monitor =  \"val_acc\", verbose = 1, save_best_only = True)\n",
    "model.save('/home/wambugumm/Development/DataAnalysis/DigitRecognizer/bestmodel.h5')\n",
    "#Building the callback\n",
    "cb = [es,mc]"
   ]
  },
  {
   "cell_type": "markdown",
   "id": "68ed9d72",
   "metadata": {},
   "source": [
    "## Training The Model"
   ]
  },
  {
   "cell_type": "code",
   "execution_count": 12,
   "id": "4c3a2d6a",
   "metadata": {},
   "outputs": [
    {
     "name": "stdout",
     "output_type": "stream",
     "text": [
      "Epoch 1/50\n"
     ]
    },
    {
     "name": "stderr",
     "output_type": "stream",
     "text": [
      "2022-05-02 22:03:12.535630: W tensorflow/core/framework/cpu_allocator_impl.cc:82] Allocation of 131712000 exceeds 10% of free system memory.\n"
     ]
    },
    {
     "name": "stdout",
     "output_type": "stream",
     "text": [
      "1308/1313 [============================>.] - ETA: 0s - loss: 0.2185 - accuracy: 0.9340WARNING:tensorflow:Early stopping conditioned on metric `val_acc` which is not available. Available metrics are: loss,accuracy,val_loss,val_accuracy\n",
      "WARNING:tensorflow:Can save best model only with val_acc available, skipping.\n",
      "1313/1313 [==============================] - 14s 11ms/step - loss: 0.2178 - accuracy: 0.9342 - val_loss: 0.0847 - val_accuracy: 0.9742\n",
      "Epoch 2/50\n",
      "1308/1313 [============================>.] - ETA: 0s - loss: 0.0743 - accuracy: 0.9774WARNING:tensorflow:Early stopping conditioned on metric `val_acc` which is not available. Available metrics are: loss,accuracy,val_loss,val_accuracy\n",
      "WARNING:tensorflow:Can save best model only with val_acc available, skipping.\n",
      "1313/1313 [==============================] - 15s 12ms/step - loss: 0.0741 - accuracy: 0.9775 - val_loss: 0.0644 - val_accuracy: 0.9797\n",
      "Epoch 3/50\n",
      "1312/1313 [============================>.] - ETA: 0s - loss: 0.0557 - accuracy: 0.9826WARNING:tensorflow:Early stopping conditioned on metric `val_acc` which is not available. Available metrics are: loss,accuracy,val_loss,val_accuracy\n",
      "WARNING:tensorflow:Can save best model only with val_acc available, skipping.\n",
      "1313/1313 [==============================] - 15s 11ms/step - loss: 0.0557 - accuracy: 0.9826 - val_loss: 0.0507 - val_accuracy: 0.9843\n",
      "Epoch 4/50\n",
      "1309/1313 [============================>.] - ETA: 0s - loss: 0.0436 - accuracy: 0.9863WARNING:tensorflow:Early stopping conditioned on metric `val_acc` which is not available. Available metrics are: loss,accuracy,val_loss,val_accuracy\n",
      "WARNING:tensorflow:Can save best model only with val_acc available, skipping.\n",
      "1313/1313 [==============================] - 15s 11ms/step - loss: 0.0438 - accuracy: 0.9863 - val_loss: 0.0533 - val_accuracy: 0.9837\n",
      "Epoch 5/50\n",
      "1309/1313 [============================>.] - ETA: 0s - loss: 0.0381 - accuracy: 0.9880WARNING:tensorflow:Early stopping conditioned on metric `val_acc` which is not available. Available metrics are: loss,accuracy,val_loss,val_accuracy\n",
      "WARNING:tensorflow:Can save best model only with val_acc available, skipping.\n",
      "1313/1313 [==============================] - 15s 11ms/step - loss: 0.0381 - accuracy: 0.9880 - val_loss: 0.0409 - val_accuracy: 0.9872\n",
      "Epoch 6/50\n",
      "1311/1313 [============================>.] - ETA: 0s - loss: 0.0336 - accuracy: 0.9893WARNING:tensorflow:Early stopping conditioned on metric `val_acc` which is not available. Available metrics are: loss,accuracy,val_loss,val_accuracy\n",
      "WARNING:tensorflow:Can save best model only with val_acc available, skipping.\n",
      "1313/1313 [==============================] - 15s 11ms/step - loss: 0.0336 - accuracy: 0.9893 - val_loss: 0.0421 - val_accuracy: 0.9871\n",
      "Epoch 7/50\n",
      "1308/1313 [============================>.] - ETA: 0s - loss: 0.0270 - accuracy: 0.9914WARNING:tensorflow:Early stopping conditioned on metric `val_acc` which is not available. Available metrics are: loss,accuracy,val_loss,val_accuracy\n",
      "WARNING:tensorflow:Can save best model only with val_acc available, skipping.\n",
      "1313/1313 [==============================] - 15s 11ms/step - loss: 0.0269 - accuracy: 0.9914 - val_loss: 0.0391 - val_accuracy: 0.9888\n",
      "Epoch 8/50\n",
      "1309/1313 [============================>.] - ETA: 0s - loss: 0.0247 - accuracy: 0.9919WARNING:tensorflow:Early stopping conditioned on metric `val_acc` which is not available. Available metrics are: loss,accuracy,val_loss,val_accuracy\n",
      "WARNING:tensorflow:Can save best model only with val_acc available, skipping.\n",
      "1313/1313 [==============================] - 15s 11ms/step - loss: 0.0247 - accuracy: 0.9919 - val_loss: 0.0386 - val_accuracy: 0.9882\n",
      "Epoch 9/50\n",
      "1310/1313 [============================>.] - ETA: 0s - loss: 0.0220 - accuracy: 0.9927WARNING:tensorflow:Early stopping conditioned on metric `val_acc` which is not available. Available metrics are: loss,accuracy,val_loss,val_accuracy\n",
      "WARNING:tensorflow:Can save best model only with val_acc available, skipping.\n",
      "1313/1313 [==============================] - 15s 11ms/step - loss: 0.0220 - accuracy: 0.9927 - val_loss: 0.0367 - val_accuracy: 0.9899\n",
      "Epoch 10/50\n",
      "1311/1313 [============================>.] - ETA: 0s - loss: 0.0194 - accuracy: 0.9934WARNING:tensorflow:Early stopping conditioned on metric `val_acc` which is not available. Available metrics are: loss,accuracy,val_loss,val_accuracy\n",
      "WARNING:tensorflow:Can save best model only with val_acc available, skipping.\n",
      "1313/1313 [==============================] - 15s 11ms/step - loss: 0.0194 - accuracy: 0.9934 - val_loss: 0.0397 - val_accuracy: 0.9891\n",
      "Epoch 11/50\n",
      "1310/1313 [============================>.] - ETA: 0s - loss: 0.0175 - accuracy: 0.9944WARNING:tensorflow:Early stopping conditioned on metric `val_acc` which is not available. Available metrics are: loss,accuracy,val_loss,val_accuracy\n",
      "WARNING:tensorflow:Can save best model only with val_acc available, skipping.\n",
      "1313/1313 [==============================] - 15s 11ms/step - loss: 0.0174 - accuracy: 0.9945 - val_loss: 0.0416 - val_accuracy: 0.9886\n",
      "Epoch 12/50\n",
      "1311/1313 [============================>.] - ETA: 0s - loss: 0.0161 - accuracy: 0.9945WARNING:tensorflow:Early stopping conditioned on metric `val_acc` which is not available. Available metrics are: loss,accuracy,val_loss,val_accuracy\n",
      "WARNING:tensorflow:Can save best model only with val_acc available, skipping.\n",
      "1313/1313 [==============================] - 15s 11ms/step - loss: 0.0161 - accuracy: 0.9945 - val_loss: 0.0448 - val_accuracy: 0.9879\n",
      "Epoch 13/50\n",
      "1310/1313 [============================>.] - ETA: 0s - loss: 0.0156 - accuracy: 0.9945WARNING:tensorflow:Early stopping conditioned on metric `val_acc` which is not available. Available metrics are: loss,accuracy,val_loss,val_accuracy\n",
      "WARNING:tensorflow:Can save best model only with val_acc available, skipping.\n",
      "1313/1313 [==============================] - 15s 11ms/step - loss: 0.0157 - accuracy: 0.9944 - val_loss: 0.0388 - val_accuracy: 0.9897\n",
      "Epoch 14/50\n",
      "1308/1313 [============================>.] - ETA: 0s - loss: 0.0145 - accuracy: 0.9954WARNING:tensorflow:Early stopping conditioned on metric `val_acc` which is not available. Available metrics are: loss,accuracy,val_loss,val_accuracy\n",
      "WARNING:tensorflow:Can save best model only with val_acc available, skipping.\n",
      "1313/1313 [==============================] - 15s 11ms/step - loss: 0.0145 - accuracy: 0.9954 - val_loss: 0.0403 - val_accuracy: 0.9899\n",
      "Epoch 15/50\n",
      "1311/1313 [============================>.] - ETA: 0s - loss: 0.0128 - accuracy: 0.9957WARNING:tensorflow:Early stopping conditioned on metric `val_acc` which is not available. Available metrics are: loss,accuracy,val_loss,val_accuracy\n",
      "WARNING:tensorflow:Can save best model only with val_acc available, skipping.\n",
      "1313/1313 [==============================] - 15s 11ms/step - loss: 0.0128 - accuracy: 0.9957 - val_loss: 0.0440 - val_accuracy: 0.9885\n",
      "Epoch 16/50\n",
      "1309/1313 [============================>.] - ETA: 0s - loss: 0.0122 - accuracy: 0.9962WARNING:tensorflow:Early stopping conditioned on metric `val_acc` which is not available. Available metrics are: loss,accuracy,val_loss,val_accuracy\n",
      "WARNING:tensorflow:Can save best model only with val_acc available, skipping.\n",
      "1313/1313 [==============================] - 15s 11ms/step - loss: 0.0122 - accuracy: 0.9962 - val_loss: 0.0385 - val_accuracy: 0.9902\n",
      "Epoch 17/50\n",
      "1310/1313 [============================>.] - ETA: 0s - loss: 0.0122 - accuracy: 0.9954WARNING:tensorflow:Early stopping conditioned on metric `val_acc` which is not available. Available metrics are: loss,accuracy,val_loss,val_accuracy\n",
      "WARNING:tensorflow:Can save best model only with val_acc available, skipping.\n",
      "1313/1313 [==============================] - 15s 11ms/step - loss: 0.0122 - accuracy: 0.9954 - val_loss: 0.0444 - val_accuracy: 0.9886\n",
      "Epoch 18/50\n",
      "1308/1313 [============================>.] - ETA: 0s - loss: 0.0115 - accuracy: 0.9957WARNING:tensorflow:Early stopping conditioned on metric `val_acc` which is not available. Available metrics are: loss,accuracy,val_loss,val_accuracy\n",
      "WARNING:tensorflow:Can save best model only with val_acc available, skipping.\n",
      "1313/1313 [==============================] - 15s 11ms/step - loss: 0.0114 - accuracy: 0.9957 - val_loss: 0.0413 - val_accuracy: 0.9899\n",
      "Epoch 19/50\n",
      "1312/1313 [============================>.] - ETA: 0s - loss: 0.0096 - accuracy: 0.9966WARNING:tensorflow:Early stopping conditioned on metric `val_acc` which is not available. Available metrics are: loss,accuracy,val_loss,val_accuracy\n",
      "WARNING:tensorflow:Can save best model only with val_acc available, skipping.\n",
      "1313/1313 [==============================] - 15s 11ms/step - loss: 0.0096 - accuracy: 0.9966 - val_loss: 0.0448 - val_accuracy: 0.9900\n",
      "Epoch 20/50\n",
      "1310/1313 [============================>.] - ETA: 0s - loss: 0.0107 - accuracy: 0.9962WARNING:tensorflow:Early stopping conditioned on metric `val_acc` which is not available. Available metrics are: loss,accuracy,val_loss,val_accuracy\n",
      "WARNING:tensorflow:Can save best model only with val_acc available, skipping.\n",
      "1313/1313 [==============================] - 15s 11ms/step - loss: 0.0108 - accuracy: 0.9962 - val_loss: 0.0495 - val_accuracy: 0.9891\n",
      "Epoch 21/50\n",
      "1308/1313 [============================>.] - ETA: 0s - loss: 0.0096 - accuracy: 0.9969WARNING:tensorflow:Early stopping conditioned on metric `val_acc` which is not available. Available metrics are: loss,accuracy,val_loss,val_accuracy\n",
      "WARNING:tensorflow:Can save best model only with val_acc available, skipping.\n",
      "1313/1313 [==============================] - 15s 11ms/step - loss: 0.0096 - accuracy: 0.9969 - val_loss: 0.0411 - val_accuracy: 0.9912\n",
      "Epoch 22/50\n",
      "1312/1313 [============================>.] - ETA: 0s - loss: 0.0088 - accuracy: 0.9971WARNING:tensorflow:Early stopping conditioned on metric `val_acc` which is not available. Available metrics are: loss,accuracy,val_loss,val_accuracy\n",
      "WARNING:tensorflow:Can save best model only with val_acc available, skipping.\n",
      "1313/1313 [==============================] - 15s 11ms/step - loss: 0.0088 - accuracy: 0.9971 - val_loss: 0.0436 - val_accuracy: 0.9907\n",
      "Epoch 23/50\n",
      "1308/1313 [============================>.] - ETA: 0s - loss: 0.0092 - accuracy: 0.9970WARNING:tensorflow:Early stopping conditioned on metric `val_acc` which is not available. Available metrics are: loss,accuracy,val_loss,val_accuracy\n",
      "WARNING:tensorflow:Can save best model only with val_acc available, skipping.\n",
      "1313/1313 [==============================] - 15s 11ms/step - loss: 0.0092 - accuracy: 0.9970 - val_loss: 0.0420 - val_accuracy: 0.9896\n",
      "Epoch 24/50\n",
      "1311/1313 [============================>.] - ETA: 0s - loss: 0.0087 - accuracy: 0.9970WARNING:tensorflow:Early stopping conditioned on metric `val_acc` which is not available. Available metrics are: loss,accuracy,val_loss,val_accuracy\n",
      "WARNING:tensorflow:Can save best model only with val_acc available, skipping.\n",
      "1313/1313 [==============================] - 15s 11ms/step - loss: 0.0087 - accuracy: 0.9970 - val_loss: 0.0435 - val_accuracy: 0.9903\n",
      "Epoch 25/50\n",
      "1309/1313 [============================>.] - ETA: 0s - loss: 0.0084 - accuracy: 0.9971WARNING:tensorflow:Early stopping conditioned on metric `val_acc` which is not available. Available metrics are: loss,accuracy,val_loss,val_accuracy\n",
      "WARNING:tensorflow:Can save best model only with val_acc available, skipping.\n",
      "1313/1313 [==============================] - 15s 11ms/step - loss: 0.0084 - accuracy: 0.9971 - val_loss: 0.0509 - val_accuracy: 0.9892\n",
      "Epoch 26/50\n",
      "1308/1313 [============================>.] - ETA: 0s - loss: 0.0090 - accuracy: 0.9968WARNING:tensorflow:Early stopping conditioned on metric `val_acc` which is not available. Available metrics are: loss,accuracy,val_loss,val_accuracy\n",
      "WARNING:tensorflow:Can save best model only with val_acc available, skipping.\n",
      "1313/1313 [==============================] - 15s 11ms/step - loss: 0.0089 - accuracy: 0.9969 - val_loss: 0.0424 - val_accuracy: 0.9904\n",
      "Epoch 27/50\n",
      "1313/1313 [==============================] - ETA: 0s - loss: 0.0081 - accuracy: 0.9970WARNING:tensorflow:Early stopping conditioned on metric `val_acc` which is not available. Available metrics are: loss,accuracy,val_loss,val_accuracy\n",
      "WARNING:tensorflow:Can save best model only with val_acc available, skipping.\n",
      "1313/1313 [==============================] - 15s 11ms/step - loss: 0.0081 - accuracy: 0.9970 - val_loss: 0.0483 - val_accuracy: 0.9898\n",
      "Epoch 28/50\n",
      "1311/1313 [============================>.] - ETA: 0s - loss: 0.0074 - accuracy: 0.9975WARNING:tensorflow:Early stopping conditioned on metric `val_acc` which is not available. Available metrics are: loss,accuracy,val_loss,val_accuracy\n",
      "WARNING:tensorflow:Can save best model only with val_acc available, skipping.\n",
      "1313/1313 [==============================] - 15s 11ms/step - loss: 0.0074 - accuracy: 0.9975 - val_loss: 0.0466 - val_accuracy: 0.9902\n",
      "Epoch 29/50\n",
      "1312/1313 [============================>.] - ETA: 0s - loss: 0.0070 - accuracy: 0.9973WARNING:tensorflow:Early stopping conditioned on metric `val_acc` which is not available. Available metrics are: loss,accuracy,val_loss,val_accuracy\n",
      "WARNING:tensorflow:Can save best model only with val_acc available, skipping.\n",
      "1313/1313 [==============================] - 15s 11ms/step - loss: 0.0070 - accuracy: 0.9973 - val_loss: 0.0519 - val_accuracy: 0.9897\n",
      "Epoch 30/50\n",
      "1309/1313 [============================>.] - ETA: 0s - loss: 0.0074 - accuracy: 0.9975WARNING:tensorflow:Early stopping conditioned on metric `val_acc` which is not available. Available metrics are: loss,accuracy,val_loss,val_accuracy\n",
      "WARNING:tensorflow:Can save best model only with val_acc available, skipping.\n",
      "1313/1313 [==============================] - 15s 11ms/step - loss: 0.0074 - accuracy: 0.9975 - val_loss: 0.0523 - val_accuracy: 0.9897\n",
      "Epoch 31/50\n",
      "1311/1313 [============================>.] - ETA: 0s - loss: 0.0070 - accuracy: 0.9975WARNING:tensorflow:Early stopping conditioned on metric `val_acc` which is not available. Available metrics are: loss,accuracy,val_loss,val_accuracy\n",
      "WARNING:tensorflow:Can save best model only with val_acc available, skipping.\n",
      "1313/1313 [==============================] - 15s 11ms/step - loss: 0.0070 - accuracy: 0.9975 - val_loss: 0.0513 - val_accuracy: 0.9889\n",
      "Epoch 32/50\n",
      "1308/1313 [============================>.] - ETA: 0s - loss: 0.0070 - accuracy: 0.9976WARNING:tensorflow:Early stopping conditioned on metric `val_acc` which is not available. Available metrics are: loss,accuracy,val_loss,val_accuracy\n",
      "WARNING:tensorflow:Can save best model only with val_acc available, skipping.\n",
      "1313/1313 [==============================] - 15s 11ms/step - loss: 0.0070 - accuracy: 0.9976 - val_loss: 0.0502 - val_accuracy: 0.9905\n",
      "Epoch 33/50\n",
      "1309/1313 [============================>.] - ETA: 0s - loss: 0.0060 - accuracy: 0.9979WARNING:tensorflow:Early stopping conditioned on metric `val_acc` which is not available. Available metrics are: loss,accuracy,val_loss,val_accuracy\n",
      "WARNING:tensorflow:Can save best model only with val_acc available, skipping.\n",
      "1313/1313 [==============================] - 15s 11ms/step - loss: 0.0060 - accuracy: 0.9979 - val_loss: 0.0485 - val_accuracy: 0.9897\n",
      "Epoch 34/50\n",
      "1309/1313 [============================>.] - ETA: 0s - loss: 0.0055 - accuracy: 0.9983WARNING:tensorflow:Early stopping conditioned on metric `val_acc` which is not available. Available metrics are: loss,accuracy,val_loss,val_accuracy\n",
      "WARNING:tensorflow:Can save best model only with val_acc available, skipping.\n",
      "1313/1313 [==============================] - 15s 12ms/step - loss: 0.0057 - accuracy: 0.9982 - val_loss: 0.0563 - val_accuracy: 0.9889\n",
      "Epoch 35/50\n",
      "1313/1313 [==============================] - ETA: 0s - loss: 0.0068 - accuracy: 0.9976WARNING:tensorflow:Early stopping conditioned on metric `val_acc` which is not available. Available metrics are: loss,accuracy,val_loss,val_accuracy\n",
      "WARNING:tensorflow:Can save best model only with val_acc available, skipping.\n",
      "1313/1313 [==============================] - 15s 11ms/step - loss: 0.0068 - accuracy: 0.9976 - val_loss: 0.0510 - val_accuracy: 0.9899\n",
      "Epoch 36/50\n",
      "1312/1313 [============================>.] - ETA: 0s - loss: 0.0063 - accuracy: 0.9978WARNING:tensorflow:Early stopping conditioned on metric `val_acc` which is not available. Available metrics are: loss,accuracy,val_loss,val_accuracy\n",
      "WARNING:tensorflow:Can save best model only with val_acc available, skipping.\n",
      "1313/1313 [==============================] - 15s 11ms/step - loss: 0.0063 - accuracy: 0.9978 - val_loss: 0.0503 - val_accuracy: 0.9904\n",
      "Epoch 37/50\n",
      "1310/1313 [============================>.] - ETA: 0s - loss: 0.0060 - accuracy: 0.9977WARNING:tensorflow:Early stopping conditioned on metric `val_acc` which is not available. Available metrics are: loss,accuracy,val_loss,val_accuracy\n",
      "WARNING:tensorflow:Can save best model only with val_acc available, skipping.\n",
      "1313/1313 [==============================] - 15s 12ms/step - loss: 0.0060 - accuracy: 0.9977 - val_loss: 0.0521 - val_accuracy: 0.9904\n",
      "Epoch 38/50\n",
      "1312/1313 [============================>.] - ETA: 0s - loss: 0.0061 - accuracy: 0.9982WARNING:tensorflow:Early stopping conditioned on metric `val_acc` which is not available. Available metrics are: loss,accuracy,val_loss,val_accuracy\n",
      "WARNING:tensorflow:Can save best model only with val_acc available, skipping.\n",
      "1313/1313 [==============================] - 15s 11ms/step - loss: 0.0061 - accuracy: 0.9982 - val_loss: 0.0474 - val_accuracy: 0.9906\n",
      "Epoch 39/50\n",
      "1311/1313 [============================>.] - ETA: 0s - loss: 0.0068 - accuracy: 0.9977WARNING:tensorflow:Early stopping conditioned on metric `val_acc` which is not available. Available metrics are: loss,accuracy,val_loss,val_accuracy\n",
      "WARNING:tensorflow:Can save best model only with val_acc available, skipping.\n",
      "1313/1313 [==============================] - 15s 11ms/step - loss: 0.0068 - accuracy: 0.9977 - val_loss: 0.0516 - val_accuracy: 0.9898\n",
      "Epoch 40/50\n",
      "1309/1313 [============================>.] - ETA: 0s - loss: 0.0072 - accuracy: 0.9975WARNING:tensorflow:Early stopping conditioned on metric `val_acc` which is not available. Available metrics are: loss,accuracy,val_loss,val_accuracy\n",
      "WARNING:tensorflow:Can save best model only with val_acc available, skipping.\n",
      "1313/1313 [==============================] - 15s 11ms/step - loss: 0.0071 - accuracy: 0.9975 - val_loss: 0.0514 - val_accuracy: 0.9904\n",
      "Epoch 41/50\n",
      "1308/1313 [============================>.] - ETA: 0s - loss: 0.0066 - accuracy: 0.9978WARNING:tensorflow:Early stopping conditioned on metric `val_acc` which is not available. Available metrics are: loss,accuracy,val_loss,val_accuracy\n",
      "WARNING:tensorflow:Can save best model only with val_acc available, skipping.\n",
      "1313/1313 [==============================] - 15s 11ms/step - loss: 0.0066 - accuracy: 0.9978 - val_loss: 0.0505 - val_accuracy: 0.9904\n",
      "Epoch 42/50\n",
      "1313/1313 [==============================] - ETA: 0s - loss: 0.0046 - accuracy: 0.9983WARNING:tensorflow:Early stopping conditioned on metric `val_acc` which is not available. Available metrics are: loss,accuracy,val_loss,val_accuracy\n",
      "WARNING:tensorflow:Can save best model only with val_acc available, skipping.\n",
      "1313/1313 [==============================] - 15s 11ms/step - loss: 0.0046 - accuracy: 0.9983 - val_loss: 0.0541 - val_accuracy: 0.9904\n",
      "Epoch 43/50\n",
      "1308/1313 [============================>.] - ETA: 0s - loss: 0.0045 - accuracy: 0.9983WARNING:tensorflow:Early stopping conditioned on metric `val_acc` which is not available. Available metrics are: loss,accuracy,val_loss,val_accuracy\n",
      "WARNING:tensorflow:Can save best model only with val_acc available, skipping.\n",
      "1313/1313 [==============================] - 15s 12ms/step - loss: 0.0045 - accuracy: 0.9983 - val_loss: 0.0560 - val_accuracy: 0.9905\n",
      "Epoch 44/50\n",
      "1311/1313 [============================>.] - ETA: 0s - loss: 0.0049 - accuracy: 0.9981WARNING:tensorflow:Early stopping conditioned on metric `val_acc` which is not available. Available metrics are: loss,accuracy,val_loss,val_accuracy\n",
      "WARNING:tensorflow:Can save best model only with val_acc available, skipping.\n",
      "1313/1313 [==============================] - 15s 11ms/step - loss: 0.0049 - accuracy: 0.9981 - val_loss: 0.0525 - val_accuracy: 0.9903\n",
      "Epoch 45/50\n",
      "1313/1313 [==============================] - ETA: 0s - loss: 0.0061 - accuracy: 0.9982WARNING:tensorflow:Early stopping conditioned on metric `val_acc` which is not available. Available metrics are: loss,accuracy,val_loss,val_accuracy\n",
      "WARNING:tensorflow:Can save best model only with val_acc available, skipping.\n",
      "1313/1313 [==============================] - 15s 12ms/step - loss: 0.0061 - accuracy: 0.9982 - val_loss: 0.0540 - val_accuracy: 0.9902\n",
      "Epoch 46/50\n",
      "1310/1313 [============================>.] - ETA: 0s - loss: 0.0046 - accuracy: 0.9986WARNING:tensorflow:Early stopping conditioned on metric `val_acc` which is not available. Available metrics are: loss,accuracy,val_loss,val_accuracy\n",
      "WARNING:tensorflow:Can save best model only with val_acc available, skipping.\n",
      "1313/1313 [==============================] - 15s 11ms/step - loss: 0.0046 - accuracy: 0.9986 - val_loss: 0.0562 - val_accuracy: 0.9899\n",
      "Epoch 47/50\n",
      "1309/1313 [============================>.] - ETA: 0s - loss: 0.0054 - accuracy: 0.9982WARNING:tensorflow:Early stopping conditioned on metric `val_acc` which is not available. Available metrics are: loss,accuracy,val_loss,val_accuracy\n",
      "WARNING:tensorflow:Can save best model only with val_acc available, skipping.\n",
      "1313/1313 [==============================] - 15s 12ms/step - loss: 0.0054 - accuracy: 0.9982 - val_loss: 0.0521 - val_accuracy: 0.9903\n",
      "Epoch 48/50\n",
      "1308/1313 [============================>.] - ETA: 0s - loss: 0.0056 - accuracy: 0.9983WARNING:tensorflow:Early stopping conditioned on metric `val_acc` which is not available. Available metrics are: loss,accuracy,val_loss,val_accuracy\n",
      "WARNING:tensorflow:Can save best model only with val_acc available, skipping.\n",
      "1313/1313 [==============================] - 15s 12ms/step - loss: 0.0056 - accuracy: 0.9983 - val_loss: 0.0686 - val_accuracy: 0.9883\n",
      "Epoch 49/50\n",
      "1310/1313 [============================>.] - ETA: 0s - loss: 0.0037 - accuracy: 0.9986WARNING:tensorflow:Early stopping conditioned on metric `val_acc` which is not available. Available metrics are: loss,accuracy,val_loss,val_accuracy\n",
      "WARNING:tensorflow:Can save best model only with val_acc available, skipping.\n",
      "1313/1313 [==============================] - 18s 14ms/step - loss: 0.0037 - accuracy: 0.9986 - val_loss: 0.0515 - val_accuracy: 0.9911\n",
      "Epoch 50/50\n",
      "1309/1313 [============================>.] - ETA: 0s - loss: 0.0050 - accuracy: 0.9982WARNING:tensorflow:Early stopping conditioned on metric `val_acc` which is not available. Available metrics are: loss,accuracy,val_loss,val_accuracy\n",
      "WARNING:tensorflow:Can save best model only with val_acc available, skipping.\n",
      "1313/1313 [==============================] - 17s 13ms/step - loss: 0.0050 - accuracy: 0.9982 - val_loss: 0.0583 - val_accuracy: 0.9905\n"
     ]
    }
   ],
   "source": [
    "#50 iterations of training the model\n",
    "his = model.fit(X_train, y_train, epochs = 50, validation_split = 0.3, callbacks = cb)"
   ]
  },
  {
   "cell_type": "code",
   "execution_count": 19,
   "id": "09ced19f",
   "metadata": {},
   "outputs": [],
   "source": [
    "model_S = keras.models.load_model(\"/home/wambugumm/Development/DataAnalysis/DigitRecognizer/bestmodel.h5\")"
   ]
  },
  {
   "cell_type": "code",
   "execution_count": 20,
   "id": "8af281ec",
   "metadata": {},
   "outputs": [
    {
     "name": "stdout",
     "output_type": "stream",
     "text": [
      "313/313 [==============================] - 1s 4ms/step - loss: 0.0441 - accuracy: 0.9924\n",
      "The model accuracy is 0.9923999905586243 \n"
     ]
    }
   ],
   "source": [
    "#Compare the accuracy of the training model to the test model\n",
    "score = model_S.evaluate(X_test,y_test)\n",
    "print(f\"The model accuracy is {score[1]} \")\n"
   ]
  },
  {
   "cell_type": "code",
   "execution_count": null,
   "id": "bd175e5a",
   "metadata": {},
   "outputs": [],
   "source": []
  }
 ],
 "metadata": {
  "kernelspec": {
   "display_name": "Python 3 (ipykernel)",
   "language": "python",
   "name": "python3"
  },
  "language_info": {
   "codemirror_mode": {
    "name": "ipython",
    "version": 3
   },
   "file_extension": ".py",
   "mimetype": "text/x-python",
   "name": "python",
   "nbconvert_exporter": "python",
   "pygments_lexer": "ipython3",
   "version": "3.9.7"
  }
 },
 "nbformat": 4,
 "nbformat_minor": 5
}
