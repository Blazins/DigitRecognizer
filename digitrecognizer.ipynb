{
 "cells": [
  {
   "cell_type": "markdown",
   "id": "a8564e97",
   "metadata": {
    "papermill": {
     "duration": 0.027756,
     "end_time": "2022-05-05T20:41:58.050115",
     "exception": false,
     "start_time": "2022-05-05T20:41:58.022359",
     "status": "completed"
    },
    "tags": []
   },
   "source": [
    "## Digit Recognizer\n",
    "Learn Computer Vision fundamentals with the famous MNIST data "
   ]
  },
  {
   "cell_type": "markdown",
   "id": "50f99b40",
   "metadata": {
    "papermill": {
     "duration": 0.02527,
     "end_time": "2022-05-05T20:41:58.101401",
     "exception": false,
     "start_time": "2022-05-05T20:41:58.076131",
     "status": "completed"
    },
    "tags": []
   },
   "source": [
    "## Libraries and Modules to be imported"
   ]
  },
  {
   "cell_type": "code",
   "execution_count": 1,
   "id": "67ab6e05",
   "metadata": {
    "execution": {
     "iopub.execute_input": "2022-05-05T20:41:58.154668Z",
     "iopub.status.busy": "2022-05-05T20:41:58.154101Z",
     "iopub.status.idle": "2022-05-05T20:42:03.123179Z",
     "shell.execute_reply": "2022-05-05T20:42:03.122178Z"
    },
    "papermill": {
     "duration": 4.999001,
     "end_time": "2022-05-05T20:42:03.126136",
     "exception": false,
     "start_time": "2022-05-05T20:41:58.127135",
     "status": "completed"
    },
    "tags": []
   },
   "outputs": [],
   "source": [
    "import numpy as np # linear algebra\n",
    "import pandas as pd # data processing, CSV file I/O (e.g. pd.read_csv)\n",
    "import tensorflow as tf"
   ]
  },
  {
   "cell_type": "markdown",
   "id": "310a2955",
   "metadata": {
    "papermill": {
     "duration": 0.026089,
     "end_time": "2022-05-05T20:42:03.178651",
     "exception": false,
     "start_time": "2022-05-05T20:42:03.152562",
     "status": "completed"
    },
    "tags": []
   },
   "source": [
    "## Loading the dataset using Kaggle's Api"
   ]
  },
  {
   "cell_type": "code",
   "execution_count": 2,
   "id": "f5f3aa9c",
   "metadata": {
    "execution": {
     "iopub.execute_input": "2022-05-05T20:42:03.232363Z",
     "iopub.status.busy": "2022-05-05T20:42:03.231847Z",
     "iopub.status.idle": "2022-05-05T20:42:03.238124Z",
     "shell.execute_reply": "2022-05-05T20:42:03.237342Z"
    },
    "papermill": {
     "duration": 0.035711,
     "end_time": "2022-05-05T20:42:03.240165",
     "exception": false,
     "start_time": "2022-05-05T20:42:03.204454",
     "status": "completed"
    },
    "tags": []
   },
   "outputs": [
    {
     "name": "stdout",
     "output_type": "stream",
     "text": [
      "/kaggle/input/digit-recognizer/sample_submission.csv\n",
      "/kaggle/input/digit-recognizer/train.csv\n",
      "/kaggle/input/digit-recognizer/test.csv\n"
     ]
    }
   ],
   "source": [
    "import os\n",
    "for dirname, _, filenames in os.walk('/kaggle/input'):\n",
    "    for filename in filenames:\n",
    "        print(os.path.join(dirname, filename))\n"
   ]
  },
  {
   "cell_type": "code",
   "execution_count": 3,
   "id": "5c811afa",
   "metadata": {
    "execution": {
     "iopub.execute_input": "2022-05-05T20:42:03.295607Z",
     "iopub.status.busy": "2022-05-05T20:42:03.295099Z",
     "iopub.status.idle": "2022-05-05T20:42:09.417597Z",
     "shell.execute_reply": "2022-05-05T20:42:09.416647Z"
    },
    "papermill": {
     "duration": 6.153402,
     "end_time": "2022-05-05T20:42:09.420377",
     "exception": false,
     "start_time": "2022-05-05T20:42:03.266975",
     "status": "completed"
    },
    "tags": []
   },
   "outputs": [],
   "source": [
    "#Load dataset\n",
    "train = pd.read_csv('/kaggle/input/digit-recognizer/train.csv')\n",
    "test = pd.read_csv('/kaggle/input/digit-recognizer/test.csv')\n",
    "sample = pd.read_csv('/kaggle/input/digit-recognizer/sample_submission.csv')"
   ]
  },
  {
   "cell_type": "markdown",
   "id": "750c5de5",
   "metadata": {
    "papermill": {
     "duration": 0.027992,
     "end_time": "2022-05-05T20:42:09.474642",
     "exception": false,
     "start_time": "2022-05-05T20:42:09.446650",
     "status": "completed"
    },
    "tags": []
   },
   "source": [
    "## Printing The Loaded Dataset"
   ]
  },
  {
   "cell_type": "code",
   "execution_count": 4,
   "id": "e9c238ee",
   "metadata": {
    "execution": {
     "iopub.execute_input": "2022-05-05T20:42:09.529804Z",
     "iopub.status.busy": "2022-05-05T20:42:09.529090Z",
     "iopub.status.idle": "2022-05-05T20:42:09.563719Z",
     "shell.execute_reply": "2022-05-05T20:42:09.562895Z"
    },
    "papermill": {
     "duration": 0.064965,
     "end_time": "2022-05-05T20:42:09.566397",
     "exception": false,
     "start_time": "2022-05-05T20:42:09.501432",
     "status": "completed"
    },
    "tags": []
   },
   "outputs": [
    {
     "data": {
      "text/html": [
       "<div>\n",
       "<style scoped>\n",
       "    .dataframe tbody tr th:only-of-type {\n",
       "        vertical-align: middle;\n",
       "    }\n",
       "\n",
       "    .dataframe tbody tr th {\n",
       "        vertical-align: top;\n",
       "    }\n",
       "\n",
       "    .dataframe thead th {\n",
       "        text-align: right;\n",
       "    }\n",
       "</style>\n",
       "<table border=\"1\" class=\"dataframe\">\n",
       "  <thead>\n",
       "    <tr style=\"text-align: right;\">\n",
       "      <th></th>\n",
       "      <th>label</th>\n",
       "      <th>pixel0</th>\n",
       "      <th>pixel1</th>\n",
       "      <th>pixel2</th>\n",
       "      <th>pixel3</th>\n",
       "      <th>pixel4</th>\n",
       "      <th>pixel5</th>\n",
       "      <th>pixel6</th>\n",
       "      <th>pixel7</th>\n",
       "      <th>pixel8</th>\n",
       "      <th>...</th>\n",
       "      <th>pixel774</th>\n",
       "      <th>pixel775</th>\n",
       "      <th>pixel776</th>\n",
       "      <th>pixel777</th>\n",
       "      <th>pixel778</th>\n",
       "      <th>pixel779</th>\n",
       "      <th>pixel780</th>\n",
       "      <th>pixel781</th>\n",
       "      <th>pixel782</th>\n",
       "      <th>pixel783</th>\n",
       "    </tr>\n",
       "  </thead>\n",
       "  <tbody>\n",
       "    <tr>\n",
       "      <th>0</th>\n",
       "      <td>1</td>\n",
       "      <td>0</td>\n",
       "      <td>0</td>\n",
       "      <td>0</td>\n",
       "      <td>0</td>\n",
       "      <td>0</td>\n",
       "      <td>0</td>\n",
       "      <td>0</td>\n",
       "      <td>0</td>\n",
       "      <td>0</td>\n",
       "      <td>...</td>\n",
       "      <td>0</td>\n",
       "      <td>0</td>\n",
       "      <td>0</td>\n",
       "      <td>0</td>\n",
       "      <td>0</td>\n",
       "      <td>0</td>\n",
       "      <td>0</td>\n",
       "      <td>0</td>\n",
       "      <td>0</td>\n",
       "      <td>0</td>\n",
       "    </tr>\n",
       "    <tr>\n",
       "      <th>1</th>\n",
       "      <td>0</td>\n",
       "      <td>0</td>\n",
       "      <td>0</td>\n",
       "      <td>0</td>\n",
       "      <td>0</td>\n",
       "      <td>0</td>\n",
       "      <td>0</td>\n",
       "      <td>0</td>\n",
       "      <td>0</td>\n",
       "      <td>0</td>\n",
       "      <td>...</td>\n",
       "      <td>0</td>\n",
       "      <td>0</td>\n",
       "      <td>0</td>\n",
       "      <td>0</td>\n",
       "      <td>0</td>\n",
       "      <td>0</td>\n",
       "      <td>0</td>\n",
       "      <td>0</td>\n",
       "      <td>0</td>\n",
       "      <td>0</td>\n",
       "    </tr>\n",
       "    <tr>\n",
       "      <th>2</th>\n",
       "      <td>1</td>\n",
       "      <td>0</td>\n",
       "      <td>0</td>\n",
       "      <td>0</td>\n",
       "      <td>0</td>\n",
       "      <td>0</td>\n",
       "      <td>0</td>\n",
       "      <td>0</td>\n",
       "      <td>0</td>\n",
       "      <td>0</td>\n",
       "      <td>...</td>\n",
       "      <td>0</td>\n",
       "      <td>0</td>\n",
       "      <td>0</td>\n",
       "      <td>0</td>\n",
       "      <td>0</td>\n",
       "      <td>0</td>\n",
       "      <td>0</td>\n",
       "      <td>0</td>\n",
       "      <td>0</td>\n",
       "      <td>0</td>\n",
       "    </tr>\n",
       "    <tr>\n",
       "      <th>3</th>\n",
       "      <td>4</td>\n",
       "      <td>0</td>\n",
       "      <td>0</td>\n",
       "      <td>0</td>\n",
       "      <td>0</td>\n",
       "      <td>0</td>\n",
       "      <td>0</td>\n",
       "      <td>0</td>\n",
       "      <td>0</td>\n",
       "      <td>0</td>\n",
       "      <td>...</td>\n",
       "      <td>0</td>\n",
       "      <td>0</td>\n",
       "      <td>0</td>\n",
       "      <td>0</td>\n",
       "      <td>0</td>\n",
       "      <td>0</td>\n",
       "      <td>0</td>\n",
       "      <td>0</td>\n",
       "      <td>0</td>\n",
       "      <td>0</td>\n",
       "    </tr>\n",
       "    <tr>\n",
       "      <th>4</th>\n",
       "      <td>0</td>\n",
       "      <td>0</td>\n",
       "      <td>0</td>\n",
       "      <td>0</td>\n",
       "      <td>0</td>\n",
       "      <td>0</td>\n",
       "      <td>0</td>\n",
       "      <td>0</td>\n",
       "      <td>0</td>\n",
       "      <td>0</td>\n",
       "      <td>...</td>\n",
       "      <td>0</td>\n",
       "      <td>0</td>\n",
       "      <td>0</td>\n",
       "      <td>0</td>\n",
       "      <td>0</td>\n",
       "      <td>0</td>\n",
       "      <td>0</td>\n",
       "      <td>0</td>\n",
       "      <td>0</td>\n",
       "      <td>0</td>\n",
       "    </tr>\n",
       "    <tr>\n",
       "      <th>...</th>\n",
       "      <td>...</td>\n",
       "      <td>...</td>\n",
       "      <td>...</td>\n",
       "      <td>...</td>\n",
       "      <td>...</td>\n",
       "      <td>...</td>\n",
       "      <td>...</td>\n",
       "      <td>...</td>\n",
       "      <td>...</td>\n",
       "      <td>...</td>\n",
       "      <td>...</td>\n",
       "      <td>...</td>\n",
       "      <td>...</td>\n",
       "      <td>...</td>\n",
       "      <td>...</td>\n",
       "      <td>...</td>\n",
       "      <td>...</td>\n",
       "      <td>...</td>\n",
       "      <td>...</td>\n",
       "      <td>...</td>\n",
       "      <td>...</td>\n",
       "    </tr>\n",
       "    <tr>\n",
       "      <th>41995</th>\n",
       "      <td>0</td>\n",
       "      <td>0</td>\n",
       "      <td>0</td>\n",
       "      <td>0</td>\n",
       "      <td>0</td>\n",
       "      <td>0</td>\n",
       "      <td>0</td>\n",
       "      <td>0</td>\n",
       "      <td>0</td>\n",
       "      <td>0</td>\n",
       "      <td>...</td>\n",
       "      <td>0</td>\n",
       "      <td>0</td>\n",
       "      <td>0</td>\n",
       "      <td>0</td>\n",
       "      <td>0</td>\n",
       "      <td>0</td>\n",
       "      <td>0</td>\n",
       "      <td>0</td>\n",
       "      <td>0</td>\n",
       "      <td>0</td>\n",
       "    </tr>\n",
       "    <tr>\n",
       "      <th>41996</th>\n",
       "      <td>1</td>\n",
       "      <td>0</td>\n",
       "      <td>0</td>\n",
       "      <td>0</td>\n",
       "      <td>0</td>\n",
       "      <td>0</td>\n",
       "      <td>0</td>\n",
       "      <td>0</td>\n",
       "      <td>0</td>\n",
       "      <td>0</td>\n",
       "      <td>...</td>\n",
       "      <td>0</td>\n",
       "      <td>0</td>\n",
       "      <td>0</td>\n",
       "      <td>0</td>\n",
       "      <td>0</td>\n",
       "      <td>0</td>\n",
       "      <td>0</td>\n",
       "      <td>0</td>\n",
       "      <td>0</td>\n",
       "      <td>0</td>\n",
       "    </tr>\n",
       "    <tr>\n",
       "      <th>41997</th>\n",
       "      <td>7</td>\n",
       "      <td>0</td>\n",
       "      <td>0</td>\n",
       "      <td>0</td>\n",
       "      <td>0</td>\n",
       "      <td>0</td>\n",
       "      <td>0</td>\n",
       "      <td>0</td>\n",
       "      <td>0</td>\n",
       "      <td>0</td>\n",
       "      <td>...</td>\n",
       "      <td>0</td>\n",
       "      <td>0</td>\n",
       "      <td>0</td>\n",
       "      <td>0</td>\n",
       "      <td>0</td>\n",
       "      <td>0</td>\n",
       "      <td>0</td>\n",
       "      <td>0</td>\n",
       "      <td>0</td>\n",
       "      <td>0</td>\n",
       "    </tr>\n",
       "    <tr>\n",
       "      <th>41998</th>\n",
       "      <td>6</td>\n",
       "      <td>0</td>\n",
       "      <td>0</td>\n",
       "      <td>0</td>\n",
       "      <td>0</td>\n",
       "      <td>0</td>\n",
       "      <td>0</td>\n",
       "      <td>0</td>\n",
       "      <td>0</td>\n",
       "      <td>0</td>\n",
       "      <td>...</td>\n",
       "      <td>0</td>\n",
       "      <td>0</td>\n",
       "      <td>0</td>\n",
       "      <td>0</td>\n",
       "      <td>0</td>\n",
       "      <td>0</td>\n",
       "      <td>0</td>\n",
       "      <td>0</td>\n",
       "      <td>0</td>\n",
       "      <td>0</td>\n",
       "    </tr>\n",
       "    <tr>\n",
       "      <th>41999</th>\n",
       "      <td>9</td>\n",
       "      <td>0</td>\n",
       "      <td>0</td>\n",
       "      <td>0</td>\n",
       "      <td>0</td>\n",
       "      <td>0</td>\n",
       "      <td>0</td>\n",
       "      <td>0</td>\n",
       "      <td>0</td>\n",
       "      <td>0</td>\n",
       "      <td>...</td>\n",
       "      <td>0</td>\n",
       "      <td>0</td>\n",
       "      <td>0</td>\n",
       "      <td>0</td>\n",
       "      <td>0</td>\n",
       "      <td>0</td>\n",
       "      <td>0</td>\n",
       "      <td>0</td>\n",
       "      <td>0</td>\n",
       "      <td>0</td>\n",
       "    </tr>\n",
       "  </tbody>\n",
       "</table>\n",
       "<p>42000 rows × 785 columns</p>\n",
       "</div>"
      ],
      "text/plain": [
       "       label  pixel0  pixel1  pixel2  pixel3  pixel4  pixel5  pixel6  pixel7  \\\n",
       "0          1       0       0       0       0       0       0       0       0   \n",
       "1          0       0       0       0       0       0       0       0       0   \n",
       "2          1       0       0       0       0       0       0       0       0   \n",
       "3          4       0       0       0       0       0       0       0       0   \n",
       "4          0       0       0       0       0       0       0       0       0   \n",
       "...      ...     ...     ...     ...     ...     ...     ...     ...     ...   \n",
       "41995      0       0       0       0       0       0       0       0       0   \n",
       "41996      1       0       0       0       0       0       0       0       0   \n",
       "41997      7       0       0       0       0       0       0       0       0   \n",
       "41998      6       0       0       0       0       0       0       0       0   \n",
       "41999      9       0       0       0       0       0       0       0       0   \n",
       "\n",
       "       pixel8  ...  pixel774  pixel775  pixel776  pixel777  pixel778  \\\n",
       "0           0  ...         0         0         0         0         0   \n",
       "1           0  ...         0         0         0         0         0   \n",
       "2           0  ...         0         0         0         0         0   \n",
       "3           0  ...         0         0         0         0         0   \n",
       "4           0  ...         0         0         0         0         0   \n",
       "...       ...  ...       ...       ...       ...       ...       ...   \n",
       "41995       0  ...         0         0         0         0         0   \n",
       "41996       0  ...         0         0         0         0         0   \n",
       "41997       0  ...         0         0         0         0         0   \n",
       "41998       0  ...         0         0         0         0         0   \n",
       "41999       0  ...         0         0         0         0         0   \n",
       "\n",
       "       pixel779  pixel780  pixel781  pixel782  pixel783  \n",
       "0             0         0         0         0         0  \n",
       "1             0         0         0         0         0  \n",
       "2             0         0         0         0         0  \n",
       "3             0         0         0         0         0  \n",
       "4             0         0         0         0         0  \n",
       "...         ...       ...       ...       ...       ...  \n",
       "41995         0         0         0         0         0  \n",
       "41996         0         0         0         0         0  \n",
       "41997         0         0         0         0         0  \n",
       "41998         0         0         0         0         0  \n",
       "41999         0         0         0         0         0  \n",
       "\n",
       "[42000 rows x 785 columns]"
      ]
     },
     "execution_count": 4,
     "metadata": {},
     "output_type": "execute_result"
    }
   ],
   "source": [
    "train"
   ]
  },
  {
   "cell_type": "code",
   "execution_count": 5,
   "id": "783e9c32",
   "metadata": {
    "execution": {
     "iopub.execute_input": "2022-05-05T20:42:09.623995Z",
     "iopub.status.busy": "2022-05-05T20:42:09.623693Z",
     "iopub.status.idle": "2022-05-05T20:42:09.645529Z",
     "shell.execute_reply": "2022-05-05T20:42:09.644625Z"
    },
    "papermill": {
     "duration": 0.052612,
     "end_time": "2022-05-05T20:42:09.647574",
     "exception": false,
     "start_time": "2022-05-05T20:42:09.594962",
     "status": "completed"
    },
    "tags": []
   },
   "outputs": [
    {
     "data": {
      "text/html": [
       "<div>\n",
       "<style scoped>\n",
       "    .dataframe tbody tr th:only-of-type {\n",
       "        vertical-align: middle;\n",
       "    }\n",
       "\n",
       "    .dataframe tbody tr th {\n",
       "        vertical-align: top;\n",
       "    }\n",
       "\n",
       "    .dataframe thead th {\n",
       "        text-align: right;\n",
       "    }\n",
       "</style>\n",
       "<table border=\"1\" class=\"dataframe\">\n",
       "  <thead>\n",
       "    <tr style=\"text-align: right;\">\n",
       "      <th></th>\n",
       "      <th>pixel0</th>\n",
       "      <th>pixel1</th>\n",
       "      <th>pixel2</th>\n",
       "      <th>pixel3</th>\n",
       "      <th>pixel4</th>\n",
       "      <th>pixel5</th>\n",
       "      <th>pixel6</th>\n",
       "      <th>pixel7</th>\n",
       "      <th>pixel8</th>\n",
       "      <th>pixel9</th>\n",
       "      <th>...</th>\n",
       "      <th>pixel774</th>\n",
       "      <th>pixel775</th>\n",
       "      <th>pixel776</th>\n",
       "      <th>pixel777</th>\n",
       "      <th>pixel778</th>\n",
       "      <th>pixel779</th>\n",
       "      <th>pixel780</th>\n",
       "      <th>pixel781</th>\n",
       "      <th>pixel782</th>\n",
       "      <th>pixel783</th>\n",
       "    </tr>\n",
       "  </thead>\n",
       "  <tbody>\n",
       "    <tr>\n",
       "      <th>0</th>\n",
       "      <td>0</td>\n",
       "      <td>0</td>\n",
       "      <td>0</td>\n",
       "      <td>0</td>\n",
       "      <td>0</td>\n",
       "      <td>0</td>\n",
       "      <td>0</td>\n",
       "      <td>0</td>\n",
       "      <td>0</td>\n",
       "      <td>0</td>\n",
       "      <td>...</td>\n",
       "      <td>0</td>\n",
       "      <td>0</td>\n",
       "      <td>0</td>\n",
       "      <td>0</td>\n",
       "      <td>0</td>\n",
       "      <td>0</td>\n",
       "      <td>0</td>\n",
       "      <td>0</td>\n",
       "      <td>0</td>\n",
       "      <td>0</td>\n",
       "    </tr>\n",
       "    <tr>\n",
       "      <th>1</th>\n",
       "      <td>0</td>\n",
       "      <td>0</td>\n",
       "      <td>0</td>\n",
       "      <td>0</td>\n",
       "      <td>0</td>\n",
       "      <td>0</td>\n",
       "      <td>0</td>\n",
       "      <td>0</td>\n",
       "      <td>0</td>\n",
       "      <td>0</td>\n",
       "      <td>...</td>\n",
       "      <td>0</td>\n",
       "      <td>0</td>\n",
       "      <td>0</td>\n",
       "      <td>0</td>\n",
       "      <td>0</td>\n",
       "      <td>0</td>\n",
       "      <td>0</td>\n",
       "      <td>0</td>\n",
       "      <td>0</td>\n",
       "      <td>0</td>\n",
       "    </tr>\n",
       "    <tr>\n",
       "      <th>2</th>\n",
       "      <td>0</td>\n",
       "      <td>0</td>\n",
       "      <td>0</td>\n",
       "      <td>0</td>\n",
       "      <td>0</td>\n",
       "      <td>0</td>\n",
       "      <td>0</td>\n",
       "      <td>0</td>\n",
       "      <td>0</td>\n",
       "      <td>0</td>\n",
       "      <td>...</td>\n",
       "      <td>0</td>\n",
       "      <td>0</td>\n",
       "      <td>0</td>\n",
       "      <td>0</td>\n",
       "      <td>0</td>\n",
       "      <td>0</td>\n",
       "      <td>0</td>\n",
       "      <td>0</td>\n",
       "      <td>0</td>\n",
       "      <td>0</td>\n",
       "    </tr>\n",
       "    <tr>\n",
       "      <th>3</th>\n",
       "      <td>0</td>\n",
       "      <td>0</td>\n",
       "      <td>0</td>\n",
       "      <td>0</td>\n",
       "      <td>0</td>\n",
       "      <td>0</td>\n",
       "      <td>0</td>\n",
       "      <td>0</td>\n",
       "      <td>0</td>\n",
       "      <td>0</td>\n",
       "      <td>...</td>\n",
       "      <td>0</td>\n",
       "      <td>0</td>\n",
       "      <td>0</td>\n",
       "      <td>0</td>\n",
       "      <td>0</td>\n",
       "      <td>0</td>\n",
       "      <td>0</td>\n",
       "      <td>0</td>\n",
       "      <td>0</td>\n",
       "      <td>0</td>\n",
       "    </tr>\n",
       "    <tr>\n",
       "      <th>4</th>\n",
       "      <td>0</td>\n",
       "      <td>0</td>\n",
       "      <td>0</td>\n",
       "      <td>0</td>\n",
       "      <td>0</td>\n",
       "      <td>0</td>\n",
       "      <td>0</td>\n",
       "      <td>0</td>\n",
       "      <td>0</td>\n",
       "      <td>0</td>\n",
       "      <td>...</td>\n",
       "      <td>0</td>\n",
       "      <td>0</td>\n",
       "      <td>0</td>\n",
       "      <td>0</td>\n",
       "      <td>0</td>\n",
       "      <td>0</td>\n",
       "      <td>0</td>\n",
       "      <td>0</td>\n",
       "      <td>0</td>\n",
       "      <td>0</td>\n",
       "    </tr>\n",
       "    <tr>\n",
       "      <th>...</th>\n",
       "      <td>...</td>\n",
       "      <td>...</td>\n",
       "      <td>...</td>\n",
       "      <td>...</td>\n",
       "      <td>...</td>\n",
       "      <td>...</td>\n",
       "      <td>...</td>\n",
       "      <td>...</td>\n",
       "      <td>...</td>\n",
       "      <td>...</td>\n",
       "      <td>...</td>\n",
       "      <td>...</td>\n",
       "      <td>...</td>\n",
       "      <td>...</td>\n",
       "      <td>...</td>\n",
       "      <td>...</td>\n",
       "      <td>...</td>\n",
       "      <td>...</td>\n",
       "      <td>...</td>\n",
       "      <td>...</td>\n",
       "      <td>...</td>\n",
       "    </tr>\n",
       "    <tr>\n",
       "      <th>27995</th>\n",
       "      <td>0</td>\n",
       "      <td>0</td>\n",
       "      <td>0</td>\n",
       "      <td>0</td>\n",
       "      <td>0</td>\n",
       "      <td>0</td>\n",
       "      <td>0</td>\n",
       "      <td>0</td>\n",
       "      <td>0</td>\n",
       "      <td>0</td>\n",
       "      <td>...</td>\n",
       "      <td>0</td>\n",
       "      <td>0</td>\n",
       "      <td>0</td>\n",
       "      <td>0</td>\n",
       "      <td>0</td>\n",
       "      <td>0</td>\n",
       "      <td>0</td>\n",
       "      <td>0</td>\n",
       "      <td>0</td>\n",
       "      <td>0</td>\n",
       "    </tr>\n",
       "    <tr>\n",
       "      <th>27996</th>\n",
       "      <td>0</td>\n",
       "      <td>0</td>\n",
       "      <td>0</td>\n",
       "      <td>0</td>\n",
       "      <td>0</td>\n",
       "      <td>0</td>\n",
       "      <td>0</td>\n",
       "      <td>0</td>\n",
       "      <td>0</td>\n",
       "      <td>0</td>\n",
       "      <td>...</td>\n",
       "      <td>0</td>\n",
       "      <td>0</td>\n",
       "      <td>0</td>\n",
       "      <td>0</td>\n",
       "      <td>0</td>\n",
       "      <td>0</td>\n",
       "      <td>0</td>\n",
       "      <td>0</td>\n",
       "      <td>0</td>\n",
       "      <td>0</td>\n",
       "    </tr>\n",
       "    <tr>\n",
       "      <th>27997</th>\n",
       "      <td>0</td>\n",
       "      <td>0</td>\n",
       "      <td>0</td>\n",
       "      <td>0</td>\n",
       "      <td>0</td>\n",
       "      <td>0</td>\n",
       "      <td>0</td>\n",
       "      <td>0</td>\n",
       "      <td>0</td>\n",
       "      <td>0</td>\n",
       "      <td>...</td>\n",
       "      <td>0</td>\n",
       "      <td>0</td>\n",
       "      <td>0</td>\n",
       "      <td>0</td>\n",
       "      <td>0</td>\n",
       "      <td>0</td>\n",
       "      <td>0</td>\n",
       "      <td>0</td>\n",
       "      <td>0</td>\n",
       "      <td>0</td>\n",
       "    </tr>\n",
       "    <tr>\n",
       "      <th>27998</th>\n",
       "      <td>0</td>\n",
       "      <td>0</td>\n",
       "      <td>0</td>\n",
       "      <td>0</td>\n",
       "      <td>0</td>\n",
       "      <td>0</td>\n",
       "      <td>0</td>\n",
       "      <td>0</td>\n",
       "      <td>0</td>\n",
       "      <td>0</td>\n",
       "      <td>...</td>\n",
       "      <td>0</td>\n",
       "      <td>0</td>\n",
       "      <td>0</td>\n",
       "      <td>0</td>\n",
       "      <td>0</td>\n",
       "      <td>0</td>\n",
       "      <td>0</td>\n",
       "      <td>0</td>\n",
       "      <td>0</td>\n",
       "      <td>0</td>\n",
       "    </tr>\n",
       "    <tr>\n",
       "      <th>27999</th>\n",
       "      <td>0</td>\n",
       "      <td>0</td>\n",
       "      <td>0</td>\n",
       "      <td>0</td>\n",
       "      <td>0</td>\n",
       "      <td>0</td>\n",
       "      <td>0</td>\n",
       "      <td>0</td>\n",
       "      <td>0</td>\n",
       "      <td>0</td>\n",
       "      <td>...</td>\n",
       "      <td>0</td>\n",
       "      <td>0</td>\n",
       "      <td>0</td>\n",
       "      <td>0</td>\n",
       "      <td>0</td>\n",
       "      <td>0</td>\n",
       "      <td>0</td>\n",
       "      <td>0</td>\n",
       "      <td>0</td>\n",
       "      <td>0</td>\n",
       "    </tr>\n",
       "  </tbody>\n",
       "</table>\n",
       "<p>28000 rows × 784 columns</p>\n",
       "</div>"
      ],
      "text/plain": [
       "       pixel0  pixel1  pixel2  pixel3  pixel4  pixel5  pixel6  pixel7  pixel8  \\\n",
       "0           0       0       0       0       0       0       0       0       0   \n",
       "1           0       0       0       0       0       0       0       0       0   \n",
       "2           0       0       0       0       0       0       0       0       0   \n",
       "3           0       0       0       0       0       0       0       0       0   \n",
       "4           0       0       0       0       0       0       0       0       0   \n",
       "...       ...     ...     ...     ...     ...     ...     ...     ...     ...   \n",
       "27995       0       0       0       0       0       0       0       0       0   \n",
       "27996       0       0       0       0       0       0       0       0       0   \n",
       "27997       0       0       0       0       0       0       0       0       0   \n",
       "27998       0       0       0       0       0       0       0       0       0   \n",
       "27999       0       0       0       0       0       0       0       0       0   \n",
       "\n",
       "       pixel9  ...  pixel774  pixel775  pixel776  pixel777  pixel778  \\\n",
       "0           0  ...         0         0         0         0         0   \n",
       "1           0  ...         0         0         0         0         0   \n",
       "2           0  ...         0         0         0         0         0   \n",
       "3           0  ...         0         0         0         0         0   \n",
       "4           0  ...         0         0         0         0         0   \n",
       "...       ...  ...       ...       ...       ...       ...       ...   \n",
       "27995       0  ...         0         0         0         0         0   \n",
       "27996       0  ...         0         0         0         0         0   \n",
       "27997       0  ...         0         0         0         0         0   \n",
       "27998       0  ...         0         0         0         0         0   \n",
       "27999       0  ...         0         0         0         0         0   \n",
       "\n",
       "       pixel779  pixel780  pixel781  pixel782  pixel783  \n",
       "0             0         0         0         0         0  \n",
       "1             0         0         0         0         0  \n",
       "2             0         0         0         0         0  \n",
       "3             0         0         0         0         0  \n",
       "4             0         0         0         0         0  \n",
       "...         ...       ...       ...       ...       ...  \n",
       "27995         0         0         0         0         0  \n",
       "27996         0         0         0         0         0  \n",
       "27997         0         0         0         0         0  \n",
       "27998         0         0         0         0         0  \n",
       "27999         0         0         0         0         0  \n",
       "\n",
       "[28000 rows x 784 columns]"
      ]
     },
     "execution_count": 5,
     "metadata": {},
     "output_type": "execute_result"
    }
   ],
   "source": [
    "test"
   ]
  },
  {
   "cell_type": "code",
   "execution_count": 6,
   "id": "4458fb33",
   "metadata": {
    "execution": {
     "iopub.execute_input": "2022-05-05T20:42:09.708617Z",
     "iopub.status.busy": "2022-05-05T20:42:09.707904Z",
     "iopub.status.idle": "2022-05-05T20:42:09.717758Z",
     "shell.execute_reply": "2022-05-05T20:42:09.717187Z"
    },
    "papermill": {
     "duration": 0.042525,
     "end_time": "2022-05-05T20:42:09.719890",
     "exception": false,
     "start_time": "2022-05-05T20:42:09.677365",
     "status": "completed"
    },
    "tags": []
   },
   "outputs": [
    {
     "data": {
      "text/html": [
       "<div>\n",
       "<style scoped>\n",
       "    .dataframe tbody tr th:only-of-type {\n",
       "        vertical-align: middle;\n",
       "    }\n",
       "\n",
       "    .dataframe tbody tr th {\n",
       "        vertical-align: top;\n",
       "    }\n",
       "\n",
       "    .dataframe thead th {\n",
       "        text-align: right;\n",
       "    }\n",
       "</style>\n",
       "<table border=\"1\" class=\"dataframe\">\n",
       "  <thead>\n",
       "    <tr style=\"text-align: right;\">\n",
       "      <th></th>\n",
       "      <th>ImageId</th>\n",
       "      <th>Label</th>\n",
       "    </tr>\n",
       "  </thead>\n",
       "  <tbody>\n",
       "    <tr>\n",
       "      <th>0</th>\n",
       "      <td>1</td>\n",
       "      <td>0</td>\n",
       "    </tr>\n",
       "    <tr>\n",
       "      <th>1</th>\n",
       "      <td>2</td>\n",
       "      <td>0</td>\n",
       "    </tr>\n",
       "    <tr>\n",
       "      <th>2</th>\n",
       "      <td>3</td>\n",
       "      <td>0</td>\n",
       "    </tr>\n",
       "    <tr>\n",
       "      <th>3</th>\n",
       "      <td>4</td>\n",
       "      <td>0</td>\n",
       "    </tr>\n",
       "    <tr>\n",
       "      <th>4</th>\n",
       "      <td>5</td>\n",
       "      <td>0</td>\n",
       "    </tr>\n",
       "    <tr>\n",
       "      <th>...</th>\n",
       "      <td>...</td>\n",
       "      <td>...</td>\n",
       "    </tr>\n",
       "    <tr>\n",
       "      <th>27995</th>\n",
       "      <td>27996</td>\n",
       "      <td>0</td>\n",
       "    </tr>\n",
       "    <tr>\n",
       "      <th>27996</th>\n",
       "      <td>27997</td>\n",
       "      <td>0</td>\n",
       "    </tr>\n",
       "    <tr>\n",
       "      <th>27997</th>\n",
       "      <td>27998</td>\n",
       "      <td>0</td>\n",
       "    </tr>\n",
       "    <tr>\n",
       "      <th>27998</th>\n",
       "      <td>27999</td>\n",
       "      <td>0</td>\n",
       "    </tr>\n",
       "    <tr>\n",
       "      <th>27999</th>\n",
       "      <td>28000</td>\n",
       "      <td>0</td>\n",
       "    </tr>\n",
       "  </tbody>\n",
       "</table>\n",
       "<p>28000 rows × 2 columns</p>\n",
       "</div>"
      ],
      "text/plain": [
       "       ImageId  Label\n",
       "0            1      0\n",
       "1            2      0\n",
       "2            3      0\n",
       "3            4      0\n",
       "4            5      0\n",
       "...        ...    ...\n",
       "27995    27996      0\n",
       "27996    27997      0\n",
       "27997    27998      0\n",
       "27998    27999      0\n",
       "27999    28000      0\n",
       "\n",
       "[28000 rows x 2 columns]"
      ]
     },
     "execution_count": 6,
     "metadata": {},
     "output_type": "execute_result"
    }
   ],
   "source": [
    "sample"
   ]
  },
  {
   "cell_type": "code",
   "execution_count": 7,
   "id": "1f4cd16f",
   "metadata": {
    "execution": {
     "iopub.execute_input": "2022-05-05T20:42:09.781605Z",
     "iopub.status.busy": "2022-05-05T20:42:09.781187Z",
     "iopub.status.idle": "2022-05-05T20:42:09.797523Z",
     "shell.execute_reply": "2022-05-05T20:42:09.796609Z"
    },
    "papermill": {
     "duration": 0.049818,
     "end_time": "2022-05-05T20:42:09.799722",
     "exception": false,
     "start_time": "2022-05-05T20:42:09.749904",
     "status": "completed"
    },
    "tags": []
   },
   "outputs": [
    {
     "data": {
      "text/html": [
       "<div>\n",
       "<style scoped>\n",
       "    .dataframe tbody tr th:only-of-type {\n",
       "        vertical-align: middle;\n",
       "    }\n",
       "\n",
       "    .dataframe tbody tr th {\n",
       "        vertical-align: top;\n",
       "    }\n",
       "\n",
       "    .dataframe thead th {\n",
       "        text-align: right;\n",
       "    }\n",
       "</style>\n",
       "<table border=\"1\" class=\"dataframe\">\n",
       "  <thead>\n",
       "    <tr style=\"text-align: right;\">\n",
       "      <th></th>\n",
       "      <th>label</th>\n",
       "      <th>pixel0</th>\n",
       "      <th>pixel1</th>\n",
       "      <th>pixel2</th>\n",
       "      <th>pixel3</th>\n",
       "      <th>pixel4</th>\n",
       "      <th>pixel5</th>\n",
       "      <th>pixel6</th>\n",
       "      <th>pixel7</th>\n",
       "      <th>pixel8</th>\n",
       "      <th>...</th>\n",
       "      <th>pixel774</th>\n",
       "      <th>pixel775</th>\n",
       "      <th>pixel776</th>\n",
       "      <th>pixel777</th>\n",
       "      <th>pixel778</th>\n",
       "      <th>pixel779</th>\n",
       "      <th>pixel780</th>\n",
       "      <th>pixel781</th>\n",
       "      <th>pixel782</th>\n",
       "      <th>pixel783</th>\n",
       "    </tr>\n",
       "  </thead>\n",
       "  <tbody>\n",
       "    <tr>\n",
       "      <th>0</th>\n",
       "      <td>1</td>\n",
       "      <td>0</td>\n",
       "      <td>0</td>\n",
       "      <td>0</td>\n",
       "      <td>0</td>\n",
       "      <td>0</td>\n",
       "      <td>0</td>\n",
       "      <td>0</td>\n",
       "      <td>0</td>\n",
       "      <td>0</td>\n",
       "      <td>...</td>\n",
       "      <td>0</td>\n",
       "      <td>0</td>\n",
       "      <td>0</td>\n",
       "      <td>0</td>\n",
       "      <td>0</td>\n",
       "      <td>0</td>\n",
       "      <td>0</td>\n",
       "      <td>0</td>\n",
       "      <td>0</td>\n",
       "      <td>0</td>\n",
       "    </tr>\n",
       "    <tr>\n",
       "      <th>1</th>\n",
       "      <td>0</td>\n",
       "      <td>0</td>\n",
       "      <td>0</td>\n",
       "      <td>0</td>\n",
       "      <td>0</td>\n",
       "      <td>0</td>\n",
       "      <td>0</td>\n",
       "      <td>0</td>\n",
       "      <td>0</td>\n",
       "      <td>0</td>\n",
       "      <td>...</td>\n",
       "      <td>0</td>\n",
       "      <td>0</td>\n",
       "      <td>0</td>\n",
       "      <td>0</td>\n",
       "      <td>0</td>\n",
       "      <td>0</td>\n",
       "      <td>0</td>\n",
       "      <td>0</td>\n",
       "      <td>0</td>\n",
       "      <td>0</td>\n",
       "    </tr>\n",
       "    <tr>\n",
       "      <th>2</th>\n",
       "      <td>1</td>\n",
       "      <td>0</td>\n",
       "      <td>0</td>\n",
       "      <td>0</td>\n",
       "      <td>0</td>\n",
       "      <td>0</td>\n",
       "      <td>0</td>\n",
       "      <td>0</td>\n",
       "      <td>0</td>\n",
       "      <td>0</td>\n",
       "      <td>...</td>\n",
       "      <td>0</td>\n",
       "      <td>0</td>\n",
       "      <td>0</td>\n",
       "      <td>0</td>\n",
       "      <td>0</td>\n",
       "      <td>0</td>\n",
       "      <td>0</td>\n",
       "      <td>0</td>\n",
       "      <td>0</td>\n",
       "      <td>0</td>\n",
       "    </tr>\n",
       "    <tr>\n",
       "      <th>3</th>\n",
       "      <td>4</td>\n",
       "      <td>0</td>\n",
       "      <td>0</td>\n",
       "      <td>0</td>\n",
       "      <td>0</td>\n",
       "      <td>0</td>\n",
       "      <td>0</td>\n",
       "      <td>0</td>\n",
       "      <td>0</td>\n",
       "      <td>0</td>\n",
       "      <td>...</td>\n",
       "      <td>0</td>\n",
       "      <td>0</td>\n",
       "      <td>0</td>\n",
       "      <td>0</td>\n",
       "      <td>0</td>\n",
       "      <td>0</td>\n",
       "      <td>0</td>\n",
       "      <td>0</td>\n",
       "      <td>0</td>\n",
       "      <td>0</td>\n",
       "    </tr>\n",
       "    <tr>\n",
       "      <th>4</th>\n",
       "      <td>0</td>\n",
       "      <td>0</td>\n",
       "      <td>0</td>\n",
       "      <td>0</td>\n",
       "      <td>0</td>\n",
       "      <td>0</td>\n",
       "      <td>0</td>\n",
       "      <td>0</td>\n",
       "      <td>0</td>\n",
       "      <td>0</td>\n",
       "      <td>...</td>\n",
       "      <td>0</td>\n",
       "      <td>0</td>\n",
       "      <td>0</td>\n",
       "      <td>0</td>\n",
       "      <td>0</td>\n",
       "      <td>0</td>\n",
       "      <td>0</td>\n",
       "      <td>0</td>\n",
       "      <td>0</td>\n",
       "      <td>0</td>\n",
       "    </tr>\n",
       "  </tbody>\n",
       "</table>\n",
       "<p>5 rows × 785 columns</p>\n",
       "</div>"
      ],
      "text/plain": [
       "   label  pixel0  pixel1  pixel2  pixel3  pixel4  pixel5  pixel6  pixel7  \\\n",
       "0      1       0       0       0       0       0       0       0       0   \n",
       "1      0       0       0       0       0       0       0       0       0   \n",
       "2      1       0       0       0       0       0       0       0       0   \n",
       "3      4       0       0       0       0       0       0       0       0   \n",
       "4      0       0       0       0       0       0       0       0       0   \n",
       "\n",
       "   pixel8  ...  pixel774  pixel775  pixel776  pixel777  pixel778  pixel779  \\\n",
       "0       0  ...         0         0         0         0         0         0   \n",
       "1       0  ...         0         0         0         0         0         0   \n",
       "2       0  ...         0         0         0         0         0         0   \n",
       "3       0  ...         0         0         0         0         0         0   \n",
       "4       0  ...         0         0         0         0         0         0   \n",
       "\n",
       "   pixel780  pixel781  pixel782  pixel783  \n",
       "0         0         0         0         0  \n",
       "1         0         0         0         0  \n",
       "2         0         0         0         0  \n",
       "3         0         0         0         0  \n",
       "4         0         0         0         0  \n",
       "\n",
       "[5 rows x 785 columns]"
      ]
     },
     "execution_count": 7,
     "metadata": {},
     "output_type": "execute_result"
    }
   ],
   "source": [
    "train.head()"
   ]
  },
  {
   "cell_type": "markdown",
   "id": "7161d5a3",
   "metadata": {
    "papermill": {
     "duration": 0.029698,
     "end_time": "2022-05-05T20:42:09.859622",
     "exception": false,
     "start_time": "2022-05-05T20:42:09.829924",
     "status": "completed"
    },
    "tags": []
   },
   "source": [
    "## Reshape The Dataset"
   ]
  },
  {
   "cell_type": "code",
   "execution_count": 8,
   "id": "d6c50daf",
   "metadata": {
    "execution": {
     "iopub.execute_input": "2022-05-05T20:42:09.919345Z",
     "iopub.status.busy": "2022-05-05T20:42:09.919068Z",
     "iopub.status.idle": "2022-05-05T20:42:09.924469Z",
     "shell.execute_reply": "2022-05-05T20:42:09.923514Z"
    },
    "papermill": {
     "duration": 0.037819,
     "end_time": "2022-05-05T20:42:09.926497",
     "exception": false,
     "start_time": "2022-05-05T20:42:09.888678",
     "status": "completed"
    },
    "tags": []
   },
   "outputs": [
    {
     "data": {
      "text/plain": [
       "(42000, 785)"
      ]
     },
     "execution_count": 8,
     "metadata": {},
     "output_type": "execute_result"
    }
   ],
   "source": [
    "train.shape"
   ]
  },
  {
   "cell_type": "code",
   "execution_count": 9,
   "id": "dd720113",
   "metadata": {
    "execution": {
     "iopub.execute_input": "2022-05-05T20:42:09.988053Z",
     "iopub.status.busy": "2022-05-05T20:42:09.987744Z",
     "iopub.status.idle": "2022-05-05T20:42:09.992452Z",
     "shell.execute_reply": "2022-05-05T20:42:09.991825Z"
    },
    "papermill": {
     "duration": 0.037983,
     "end_time": "2022-05-05T20:42:09.994669",
     "exception": false,
     "start_time": "2022-05-05T20:42:09.956686",
     "status": "completed"
    },
    "tags": []
   },
   "outputs": [
    {
     "data": {
      "text/plain": [
       "(28000, 784)"
      ]
     },
     "execution_count": 9,
     "metadata": {},
     "output_type": "execute_result"
    }
   ],
   "source": [
    "test.shape"
   ]
  },
  {
   "cell_type": "code",
   "execution_count": 10,
   "id": "4d74a928",
   "metadata": {
    "execution": {
     "iopub.execute_input": "2022-05-05T20:42:10.058893Z",
     "iopub.status.busy": "2022-05-05T20:42:10.058474Z",
     "iopub.status.idle": "2022-05-05T20:42:10.310793Z",
     "shell.execute_reply": "2022-05-05T20:42:10.310115Z"
    },
    "papermill": {
     "duration": 0.287375,
     "end_time": "2022-05-05T20:42:10.312755",
     "exception": false,
     "start_time": "2022-05-05T20:42:10.025380",
     "status": "completed"
    },
    "tags": []
   },
   "outputs": [
    {
     "data": {
      "text/plain": [
       "((42000, 784), (42000,), (28000, 784))"
      ]
     },
     "execution_count": 10,
     "metadata": {},
     "output_type": "execute_result"
    }
   ],
   "source": [
    "train_y = train['label'].astype('float32')\n",
    "train_x = train.drop(['label'],axis = 1).astype('int32')\n",
    "test_x = test.astype('float32')\n",
    "train_x.shape, train_y.shape, test_x.shape"
   ]
  },
  {
   "cell_type": "code",
   "execution_count": 11,
   "id": "4bb30e17",
   "metadata": {
    "execution": {
     "iopub.execute_input": "2022-05-05T20:42:10.374687Z",
     "iopub.status.busy": "2022-05-05T20:42:10.374278Z",
     "iopub.status.idle": "2022-05-05T20:42:10.512918Z",
     "shell.execute_reply": "2022-05-05T20:42:10.512232Z"
    },
    "papermill": {
     "duration": 0.171934,
     "end_time": "2022-05-05T20:42:10.514773",
     "exception": false,
     "start_time": "2022-05-05T20:42:10.342839",
     "status": "completed"
    },
    "tags": []
   },
   "outputs": [
    {
     "data": {
      "text/plain": [
       "((42000, 28, 28, 1), (28000, 28, 28, 1))"
      ]
     },
     "execution_count": 11,
     "metadata": {},
     "output_type": "execute_result"
    }
   ],
   "source": [
    "#Reshape the data\n",
    "train_x = train_x.values.reshape(-1,28,28,1)\n",
    "train_x = train_x / 255.0\n",
    "test_x = test_x.values.reshape(-1,28,28,1)\n",
    "test_x = test_x / 255.0\n",
    "train_x.shape, test_x.shape"
   ]
  },
  {
   "cell_type": "code",
   "execution_count": 12,
   "id": "29fc7748",
   "metadata": {
    "execution": {
     "iopub.execute_input": "2022-05-05T20:42:10.578185Z",
     "iopub.status.busy": "2022-05-05T20:42:10.577764Z",
     "iopub.status.idle": "2022-05-05T20:42:11.677101Z",
     "shell.execute_reply": "2022-05-05T20:42:11.676100Z"
    },
    "papermill": {
     "duration": 1.133842,
     "end_time": "2022-05-05T20:42:11.679640",
     "exception": false,
     "start_time": "2022-05-05T20:42:10.545798",
     "status": "completed"
    },
    "tags": []
   },
   "outputs": [
    {
     "name": "stdout",
     "output_type": "stream",
     "text": [
      "[[0. 1. 0. 0. 0. 0. 0. 0. 0. 0.]\n",
      " [1. 0. 0. 0. 0. 0. 0. 0. 0. 0.]\n",
      " [0. 1. 0. 0. 0. 0. 0. 0. 0. 0.]\n",
      " [0. 0. 0. 0. 1. 0. 0. 0. 0. 0.]\n",
      " [1. 0. 0. 0. 0. 0. 0. 0. 0. 0.]]\n"
     ]
    }
   ],
   "source": [
    "#One hot encoding of the same labels\n",
    "#One Hot Encoding\n",
    "train_y = tf.keras.utils.to_categorical(train_y,10)\n",
    "train_y.shape\n",
    "\n",
    "print(train_y[0:5,:])"
   ]
  },
  {
   "cell_type": "markdown",
   "id": "58052dcf",
   "metadata": {
    "papermill": {
     "duration": 0.030644,
     "end_time": "2022-05-05T20:42:11.742042",
     "exception": false,
     "start_time": "2022-05-05T20:42:11.711398",
     "status": "completed"
    },
    "tags": []
   },
   "source": [
    "## Building The Model"
   ]
  },
  {
   "cell_type": "markdown",
   "id": "0a5a41c3",
   "metadata": {
    "papermill": {
     "duration": 0.030469,
     "end_time": "2022-05-05T20:42:11.803440",
     "exception": false,
     "start_time": "2022-05-05T20:42:11.772971",
     "status": "completed"
    },
    "tags": []
   },
   "source": [
    "We'll use keras from tensorflow to build the CNN "
   ]
  },
  {
   "cell_type": "code",
   "execution_count": 13,
   "id": "1f297bb4",
   "metadata": {
    "execution": {
     "iopub.execute_input": "2022-05-05T20:42:11.868201Z",
     "iopub.status.busy": "2022-05-05T20:42:11.867917Z",
     "iopub.status.idle": "2022-05-05T20:42:11.871488Z",
     "shell.execute_reply": "2022-05-05T20:42:11.870877Z"
    },
    "papermill": {
     "duration": 0.039037,
     "end_time": "2022-05-05T20:42:11.873178",
     "exception": false,
     "start_time": "2022-05-05T20:42:11.834141",
     "status": "completed"
    },
    "tags": []
   },
   "outputs": [],
   "source": [
    "from keras.models import Sequential"
   ]
  },
  {
   "cell_type": "code",
   "execution_count": 14,
   "id": "b15f91e3",
   "metadata": {
    "execution": {
     "iopub.execute_input": "2022-05-05T20:42:11.936801Z",
     "iopub.status.busy": "2022-05-05T20:42:11.936501Z",
     "iopub.status.idle": "2022-05-05T20:42:12.147394Z",
     "shell.execute_reply": "2022-05-05T20:42:12.146654Z"
    },
    "papermill": {
     "duration": 0.245303,
     "end_time": "2022-05-05T20:42:12.149448",
     "exception": false,
     "start_time": "2022-05-05T20:42:11.904145",
     "status": "completed"
    },
    "tags": []
   },
   "outputs": [
    {
     "name": "stderr",
     "output_type": "stream",
     "text": [
      "2022-05-05 20:42:11.998363: I tensorflow/core/common_runtime/process_util.cc:146] Creating new thread pool with default inter op setting: 2. Tune using inter_op_parallelism_threads for best performance.\n"
     ]
    }
   ],
   "source": [
    "#Defining the model\n",
    "model = tf.keras.models.Sequential([\n",
    "  tf.keras.layers.Conv2D(32,(3,3),activation = 'relu', input_shape=(28,28,1)),\n",
    "  tf.keras.layers.Conv2D(32,(3,3),activation = 'relu'),\n",
    "  tf.keras.layers.MaxPooling2D(2,2),\n",
    "  tf.keras.layers.Conv2D(64,(3,3),activation = 'relu',padding = 'Same'),\n",
    "  tf.keras.layers.Conv2D(64,(3,3),activation = 'relu',padding = 'Same'),\n",
    "  tf.keras.layers.MaxPooling2D(pool_size = (2,2), strides = (2,2)),\n",
    "  tf.keras.layers.Dropout(0.25),\n",
    "  tf.keras.layers.Conv2D(64,(3,3),activation = 'relu',padding = 'Same'),\n",
    "  tf.keras.layers.Conv2D(64,(3,3),activation = 'relu',padding = 'Same'),\n",
    "  tf.keras.layers.MaxPooling2D(pool_size = (2,2), strides = (2,2)),\n",
    "  tf.keras.layers.Dropout(0.25),\n",
    "  tf.keras.layers.Flatten(),\n",
    "  tf.keras.layers.Dense(256, activation='relu'),\n",
    "  #tf.keras.layers.Dropout(0.50),\n",
    "  tf.keras.layers.Dense(256, activation='relu'),\n",
    "  tf.keras.layers.Dropout(0.50),\n",
    "  tf.keras.layers.Dense(10, activation='softmax')\n",
    "])"
   ]
  },
  {
   "cell_type": "code",
   "execution_count": 15,
   "id": "b00de729",
   "metadata": {
    "execution": {
     "iopub.execute_input": "2022-05-05T20:42:12.214276Z",
     "iopub.status.busy": "2022-05-05T20:42:12.213404Z",
     "iopub.status.idle": "2022-05-05T20:42:12.225512Z",
     "shell.execute_reply": "2022-05-05T20:42:12.224656Z"
    },
    "papermill": {
     "duration": 0.04708,
     "end_time": "2022-05-05T20:42:12.227782",
     "exception": false,
     "start_time": "2022-05-05T20:42:12.180702",
     "status": "completed"
    },
    "tags": []
   },
   "outputs": [
    {
     "name": "stdout",
     "output_type": "stream",
     "text": [
      "Model: \"sequential\"\n",
      "_________________________________________________________________\n",
      "Layer (type)                 Output Shape              Param #   \n",
      "=================================================================\n",
      "conv2d (Conv2D)              (None, 26, 26, 32)        320       \n",
      "_________________________________________________________________\n",
      "conv2d_1 (Conv2D)            (None, 24, 24, 32)        9248      \n",
      "_________________________________________________________________\n",
      "max_pooling2d (MaxPooling2D) (None, 12, 12, 32)        0         \n",
      "_________________________________________________________________\n",
      "conv2d_2 (Conv2D)            (None, 12, 12, 64)        18496     \n",
      "_________________________________________________________________\n",
      "conv2d_3 (Conv2D)            (None, 12, 12, 64)        36928     \n",
      "_________________________________________________________________\n",
      "max_pooling2d_1 (MaxPooling2 (None, 6, 6, 64)          0         \n",
      "_________________________________________________________________\n",
      "dropout (Dropout)            (None, 6, 6, 64)          0         \n",
      "_________________________________________________________________\n",
      "conv2d_4 (Conv2D)            (None, 6, 6, 64)          36928     \n",
      "_________________________________________________________________\n",
      "conv2d_5 (Conv2D)            (None, 6, 6, 64)          36928     \n",
      "_________________________________________________________________\n",
      "max_pooling2d_2 (MaxPooling2 (None, 3, 3, 64)          0         \n",
      "_________________________________________________________________\n",
      "dropout_1 (Dropout)          (None, 3, 3, 64)          0         \n",
      "_________________________________________________________________\n",
      "flatten (Flatten)            (None, 576)               0         \n",
      "_________________________________________________________________\n",
      "dense (Dense)                (None, 256)               147712    \n",
      "_________________________________________________________________\n",
      "dense_1 (Dense)              (None, 256)               65792     \n",
      "_________________________________________________________________\n",
      "dropout_2 (Dropout)          (None, 256)               0         \n",
      "_________________________________________________________________\n",
      "dense_2 (Dense)              (None, 10)                2570      \n",
      "=================================================================\n",
      "Total params: 354,922\n",
      "Trainable params: 354,922\n",
      "Non-trainable params: 0\n",
      "_________________________________________________________________\n"
     ]
    }
   ],
   "source": [
    "model.summary()"
   ]
  },
  {
   "cell_type": "code",
   "execution_count": 16,
   "id": "f719a586",
   "metadata": {
    "execution": {
     "iopub.execute_input": "2022-05-05T20:42:12.293429Z",
     "iopub.status.busy": "2022-05-05T20:42:12.292795Z",
     "iopub.status.idle": "2022-05-05T20:42:12.299346Z",
     "shell.execute_reply": "2022-05-05T20:42:12.298403Z"
    },
    "papermill": {
     "duration": 0.042039,
     "end_time": "2022-05-05T20:42:12.301498",
     "exception": false,
     "start_time": "2022-05-05T20:42:12.259459",
     "status": "completed"
    },
    "tags": []
   },
   "outputs": [],
   "source": [
    "#Defining the callback function prevent overfitting\n",
    "class myCallback(tf.keras.callbacks.Callback):\n",
    "        def on_epoch_end(self, epoch, logs={}):\n",
    "            if(logs.get('accuracy') > 0.999):\n",
    "                print(\"\\nReached 99.9% accuracy\")\n",
    "                self.model.stop_training = True\n",
    "    \n",
    "callbacks = myCallback()"
   ]
  },
  {
   "cell_type": "markdown",
   "id": "195b94a7",
   "metadata": {
    "papermill": {
     "duration": 0.032368,
     "end_time": "2022-05-05T20:42:12.365589",
     "exception": false,
     "start_time": "2022-05-05T20:42:12.333221",
     "status": "completed"
    },
    "tags": []
   },
   "source": [
    "## Compiling The Model"
   ]
  },
  {
   "cell_type": "code",
   "execution_count": 17,
   "id": "b8f37dcd",
   "metadata": {
    "execution": {
     "iopub.execute_input": "2022-05-05T20:42:12.431097Z",
     "iopub.status.busy": "2022-05-05T20:42:12.430826Z",
     "iopub.status.idle": "2022-05-05T20:42:12.444523Z",
     "shell.execute_reply": "2022-05-05T20:42:12.443703Z"
    },
    "papermill": {
     "duration": 0.049164,
     "end_time": "2022-05-05T20:42:12.446787",
     "exception": false,
     "start_time": "2022-05-05T20:42:12.397623",
     "status": "completed"
    },
    "tags": []
   },
   "outputs": [],
   "source": [
    "#Compiling the model\n",
    "Optimizer = tf.keras.optimizers.Adam(\n",
    "            learning_rate=0.0005, \n",
    "            beta_1=0.9, \n",
    "            beta_2=0.999, \n",
    "            epsilon=1e-07,\n",
    "            name='Adam'\n",
    ")\n",
    "model.compile(optimizer=Optimizer, loss='categorical_crossentropy', metrics=['accuracy'])"
   ]
  },
  {
   "cell_type": "markdown",
   "id": "eb72e2db",
   "metadata": {
    "papermill": {
     "duration": 0.03161,
     "end_time": "2022-05-05T20:42:12.510200",
     "exception": false,
     "start_time": "2022-05-05T20:42:12.478590",
     "status": "completed"
    },
    "tags": []
   },
   "source": [
    "## Training The Model "
   ]
  },
  {
   "cell_type": "code",
   "execution_count": 18,
   "id": "75d0ba1e",
   "metadata": {
    "execution": {
     "iopub.execute_input": "2022-05-05T20:42:12.577150Z",
     "iopub.status.busy": "2022-05-05T20:42:12.576869Z",
     "iopub.status.idle": "2022-05-05T20:59:26.141623Z",
     "shell.execute_reply": "2022-05-05T20:59:26.140775Z"
    },
    "papermill": {
     "duration": 1033.600954,
     "end_time": "2022-05-05T20:59:26.143642",
     "exception": false,
     "start_time": "2022-05-05T20:42:12.542688",
     "status": "completed"
    },
    "tags": []
   },
   "outputs": [
    {
     "name": "stderr",
     "output_type": "stream",
     "text": [
      "2022-05-05 20:42:12.894309: I tensorflow/compiler/mlir/mlir_graph_optimization_pass.cc:185] None of the MLIR Optimization Passes are enabled (registered 2)\n"
     ]
    },
    {
     "name": "stdout",
     "output_type": "stream",
     "text": [
      "Epoch 1/20\n",
      "840/840 [==============================] - 50s 59ms/step - loss: 0.3378 - accuracy: 0.8891\n",
      "Epoch 2/20\n",
      "840/840 [==============================] - 50s 60ms/step - loss: 0.0813 - accuracy: 0.9753\n",
      "Epoch 3/20\n",
      "840/840 [==============================] - 49s 59ms/step - loss: 0.0573 - accuracy: 0.9831\n",
      "Epoch 4/20\n",
      "840/840 [==============================] - 51s 60ms/step - loss: 0.0503 - accuracy: 0.9848\n",
      "Epoch 5/20\n",
      "840/840 [==============================] - 50s 59ms/step - loss: 0.0382 - accuracy: 0.9886\n",
      "Epoch 6/20\n",
      "840/840 [==============================] - 53s 63ms/step - loss: 0.0355 - accuracy: 0.9893\n",
      "Epoch 7/20\n",
      "840/840 [==============================] - 51s 61ms/step - loss: 0.0325 - accuracy: 0.9905\n",
      "Epoch 8/20\n",
      "840/840 [==============================] - 53s 63ms/step - loss: 0.0280 - accuracy: 0.9919\n",
      "Epoch 9/20\n",
      "840/840 [==============================] - 52s 62ms/step - loss: 0.0237 - accuracy: 0.9928\n",
      "Epoch 10/20\n",
      "840/840 [==============================] - 54s 65ms/step - loss: 0.0235 - accuracy: 0.9928\n",
      "Epoch 11/20\n",
      "840/840 [==============================] - 49s 58ms/step - loss: 0.0225 - accuracy: 0.9934\n",
      "Epoch 12/20\n",
      "840/840 [==============================] - 52s 62ms/step - loss: 0.0189 - accuracy: 0.9942\n",
      "Epoch 13/20\n",
      "840/840 [==============================] - 52s 62ms/step - loss: 0.0181 - accuracy: 0.9948\n",
      "Epoch 14/20\n",
      "840/840 [==============================] - 53s 63ms/step - loss: 0.0167 - accuracy: 0.9952\n",
      "Epoch 15/20\n",
      "840/840 [==============================] - 49s 59ms/step - loss: 0.0162 - accuracy: 0.9954\n",
      "Epoch 16/20\n",
      "840/840 [==============================] - 54s 64ms/step - loss: 0.0157 - accuracy: 0.9950\n",
      "Epoch 17/20\n",
      "840/840 [==============================] - 54s 65ms/step - loss: 0.0144 - accuracy: 0.9954\n",
      "Epoch 18/20\n",
      "840/840 [==============================] - 52s 62ms/step - loss: 0.0129 - accuracy: 0.9962\n",
      "Epoch 19/20\n",
      "840/840 [==============================] - 51s 61ms/step - loss: 0.0135 - accuracy: 0.9960\n",
      "Epoch 20/20\n",
      "840/840 [==============================] - 55s 65ms/step - loss: 0.0128 - accuracy: 0.9963\n"
     ]
    },
    {
     "data": {
      "text/plain": [
       "<keras.callbacks.History at 0x7fa48334ae50>"
      ]
     },
     "execution_count": 18,
     "metadata": {},
     "output_type": "execute_result"
    }
   ],
   "source": [
    "model.fit(train_x, train_y, batch_size = 50, epochs = 20, callbacks=[callbacks])"
   ]
  },
  {
   "cell_type": "code",
   "execution_count": 19,
   "id": "7055d85d",
   "metadata": {
    "execution": {
     "iopub.execute_input": "2022-05-05T20:59:38.576739Z",
     "iopub.status.busy": "2022-05-05T20:59:38.576473Z",
     "iopub.status.idle": "2022-05-05T20:59:49.281756Z",
     "shell.execute_reply": "2022-05-05T20:59:49.280547Z"
    },
    "papermill": {
     "duration": 16.907526,
     "end_time": "2022-05-05T20:59:49.283886",
     "exception": false,
     "start_time": "2022-05-05T20:59:32.376360",
     "status": "completed"
    },
    "tags": []
   },
   "outputs": [
    {
     "name": "stdout",
     "output_type": "stream",
     "text": [
      "0        2\n",
      "1        0\n",
      "2        9\n",
      "3        0\n",
      "4        3\n",
      "        ..\n",
      "27995    9\n",
      "27996    7\n",
      "27997    3\n",
      "27998    9\n",
      "27999    2\n",
      "Name: Label, Length: 28000, dtype: int64\n"
     ]
    }
   ],
   "source": [
    "#Predict on X_test\n",
    "results = model.predict(test_x)\n",
    "# select the index with the maximum probability\n",
    "results = np.argmax(results,axis = 1)\n",
    "results = pd.Series(results,name=\"Label\")\n",
    "print(results)"
   ]
  },
  {
   "cell_type": "code",
   "execution_count": 20,
   "id": "0a8ca7ca",
   "metadata": {
    "execution": {
     "iopub.execute_input": "2022-05-05T21:00:01.732792Z",
     "iopub.status.busy": "2022-05-05T21:00:01.732127Z",
     "iopub.status.idle": "2022-05-05T21:00:01.736405Z",
     "shell.execute_reply": "2022-05-05T21:00:01.735521Z"
    },
    "papermill": {
     "duration": 6.166736,
     "end_time": "2022-05-05T21:00:01.738394",
     "exception": false,
     "start_time": "2022-05-05T20:59:55.571658",
     "status": "completed"
    },
    "tags": []
   },
   "outputs": [],
   "source": [
    "#To make your submission to Kaggle\n",
    "#submission = pd.concat([pd.Series(range(1,28001),name = \"ImageId\"),results],axis = 1)\n",
    "#submission.to_csv(\"submission.csv\",index=False)\n",
    "\n",
    "#Submitting the results on Kaggle\n",
    "#!kaggle competitions submit -c digit-recognizer -f submission.csv -m \"Message\"\n"
   ]
  }
 ],
 "metadata": {
  "kernelspec": {
   "display_name": "Python 3",
   "language": "python",
   "name": "python3"
  },
  "language_info": {
   "codemirror_mode": {
    "name": "ipython",
    "version": 3
   },
   "file_extension": ".py",
   "mimetype": "text/x-python",
   "name": "python",
   "nbconvert_exporter": "python",
   "pygments_lexer": "ipython3",
   "version": "3.7.12"
  },
  "papermill": {
   "default_parameters": {},
   "duration": 1103.191773,
   "end_time": "2022-05-05T21:00:11.224770",
   "environment_variables": {},
   "exception": null,
   "input_path": "__notebook__.ipynb",
   "output_path": "__notebook__.ipynb",
   "parameters": {},
   "start_time": "2022-05-05T20:41:48.032997",
   "version": "2.3.4"
  }
 },
 "nbformat": 4,
 "nbformat_minor": 5
}
